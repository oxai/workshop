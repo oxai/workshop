{
 "cells": [
  {
   "cell_type": "code",
   "execution_count": 13,
   "metadata": {
    "collapsed": true
   },
   "outputs": [],
   "source": [
    "import torch as tc\n",
    "import numpy as np\n",
    "from torch.autograd import Variable\n",
    "from torchvision import datasets, transforms\n",
    "from torch.utils.data import DataLoader"
   ]
  },
  {
   "cell_type": "markdown",
   "metadata": {},
   "source": [
    "# 1. CNN"
   ]
  },
  {
   "cell_type": "markdown",
   "metadata": {},
   "source": [
    "![optional caption text](Figures/CNNArchitecture.jpg)\n",
    "(http://parse.ele.tue.nl/cluster/2/CNNArchitecture.jpg)"
   ]
  },
  {
   "cell_type": "code",
   "execution_count": 317,
   "metadata": {
    "collapsed": true
   },
   "outputs": [],
   "source": [
    "test_conv = tc.nn.Conv2d(1,1, kernel_size=3, stride=1, padding=0)"
   ]
  },
  {
   "cell_type": "code",
   "execution_count": 318,
   "metadata": {},
   "outputs": [
    {
     "data": {
      "text/plain": [
       "\n",
       "(0 ,0 ,.,.) = \n",
       "  0.2743 -0.1344 -0.0945\n",
       "  0.1882  0.1721  0.1915\n",
       " -0.3011 -0.1853  0.1861\n",
       "[torch.FloatTensor of size 1x1x3x3]"
      ]
     },
     "execution_count": 318,
     "metadata": {},
     "output_type": "execute_result"
    }
   ],
   "source": [
    "test_conv.weight.data"
   ]
  },
  {
   "cell_type": "code",
   "execution_count": 319,
   "metadata": {
    "collapsed": true
   },
   "outputs": [],
   "source": [
    "test_conv.weight.data = tc.Tensor([[-1,-1,-1], [-1,8,-1], [-1,-1,-1]])"
   ]
  },
  {
   "cell_type": "code",
   "execution_count": 320,
   "metadata": {},
   "outputs": [
    {
     "data": {
      "text/plain": [
       "Parameter containing:\n",
       "-1 -1 -1\n",
       "-1  8 -1\n",
       "-1 -1 -1\n",
       "[torch.FloatTensor of size 3x3]"
      ]
     },
     "execution_count": 320,
     "metadata": {},
     "output_type": "execute_result"
    }
   ],
   "source": [
    "test_conv.weight"
   ]
  },
  {
   "cell_type": "code",
   "execution_count": 321,
   "metadata": {
    "collapsed": true
   },
   "outputs": [],
   "source": [
    "test_pic = train_dataset.train_data[0]"
   ]
  },
  {
   "cell_type": "code",
   "execution_count": 341,
   "metadata": {},
   "outputs": [
    {
     "ename": "RuntimeError",
     "evalue": "Expected 4-dimensional input for 4-dimensional weight [3, 3], but got input of size [32, 1, 28, 28] instead",
     "output_type": "error",
     "traceback": [
      "\u001b[0;31m---------------------------------------------------------------------------\u001b[0m",
      "\u001b[0;31mRuntimeError\u001b[0m                              Traceback (most recent call last)",
      "\u001b[0;32m<ipython-input-341-76648b7ac8f8>\u001b[0m in \u001b[0;36m<module>\u001b[0;34m()\u001b[0m\n\u001b[0;32m----> 1\u001b[0;31m \u001b[0mtest_conv\u001b[0m\u001b[0;34m(\u001b[0m\u001b[0mdata\u001b[0m\u001b[0;34m)\u001b[0m\u001b[0;34m\u001b[0m\u001b[0m\n\u001b[0m",
      "\u001b[0;32m~/anaconda3/lib/python3.6/site-packages/torch/nn/modules/module.py\u001b[0m in \u001b[0;36m__call__\u001b[0;34m(self, *input, **kwargs)\u001b[0m\n\u001b[1;32m    323\u001b[0m         \u001b[0;32mfor\u001b[0m \u001b[0mhook\u001b[0m \u001b[0;32min\u001b[0m \u001b[0mself\u001b[0m\u001b[0;34m.\u001b[0m\u001b[0m_forward_pre_hooks\u001b[0m\u001b[0;34m.\u001b[0m\u001b[0mvalues\u001b[0m\u001b[0;34m(\u001b[0m\u001b[0;34m)\u001b[0m\u001b[0;34m:\u001b[0m\u001b[0;34m\u001b[0m\u001b[0m\n\u001b[1;32m    324\u001b[0m             \u001b[0mhook\u001b[0m\u001b[0;34m(\u001b[0m\u001b[0mself\u001b[0m\u001b[0;34m,\u001b[0m \u001b[0minput\u001b[0m\u001b[0;34m)\u001b[0m\u001b[0;34m\u001b[0m\u001b[0m\n\u001b[0;32m--> 325\u001b[0;31m         \u001b[0mresult\u001b[0m \u001b[0;34m=\u001b[0m \u001b[0mself\u001b[0m\u001b[0;34m.\u001b[0m\u001b[0mforward\u001b[0m\u001b[0;34m(\u001b[0m\u001b[0;34m*\u001b[0m\u001b[0minput\u001b[0m\u001b[0;34m,\u001b[0m \u001b[0;34m**\u001b[0m\u001b[0mkwargs\u001b[0m\u001b[0;34m)\u001b[0m\u001b[0;34m\u001b[0m\u001b[0m\n\u001b[0m\u001b[1;32m    326\u001b[0m         \u001b[0;32mfor\u001b[0m \u001b[0mhook\u001b[0m \u001b[0;32min\u001b[0m \u001b[0mself\u001b[0m\u001b[0;34m.\u001b[0m\u001b[0m_forward_hooks\u001b[0m\u001b[0;34m.\u001b[0m\u001b[0mvalues\u001b[0m\u001b[0;34m(\u001b[0m\u001b[0;34m)\u001b[0m\u001b[0;34m:\u001b[0m\u001b[0;34m\u001b[0m\u001b[0m\n\u001b[1;32m    327\u001b[0m             \u001b[0mhook_result\u001b[0m \u001b[0;34m=\u001b[0m \u001b[0mhook\u001b[0m\u001b[0;34m(\u001b[0m\u001b[0mself\u001b[0m\u001b[0;34m,\u001b[0m \u001b[0minput\u001b[0m\u001b[0;34m,\u001b[0m \u001b[0mresult\u001b[0m\u001b[0;34m)\u001b[0m\u001b[0;34m\u001b[0m\u001b[0m\n",
      "\u001b[0;32m~/anaconda3/lib/python3.6/site-packages/torch/nn/modules/conv.py\u001b[0m in \u001b[0;36mforward\u001b[0;34m(self, input)\u001b[0m\n\u001b[1;32m    275\u001b[0m     \u001b[0;32mdef\u001b[0m \u001b[0mforward\u001b[0m\u001b[0;34m(\u001b[0m\u001b[0mself\u001b[0m\u001b[0;34m,\u001b[0m \u001b[0minput\u001b[0m\u001b[0;34m)\u001b[0m\u001b[0;34m:\u001b[0m\u001b[0;34m\u001b[0m\u001b[0m\n\u001b[1;32m    276\u001b[0m         return F.conv2d(input, self.weight, self.bias, self.stride,\n\u001b[0;32m--> 277\u001b[0;31m                         self.padding, self.dilation, self.groups)\n\u001b[0m\u001b[1;32m    278\u001b[0m \u001b[0;34m\u001b[0m\u001b[0m\n\u001b[1;32m    279\u001b[0m \u001b[0;34m\u001b[0m\u001b[0m\n",
      "\u001b[0;32m~/anaconda3/lib/python3.6/site-packages/torch/nn/functional.py\u001b[0m in \u001b[0;36mconv2d\u001b[0;34m(input, weight, bias, stride, padding, dilation, groups)\u001b[0m\n\u001b[1;32m     88\u001b[0m                 \u001b[0m_pair\u001b[0m\u001b[0;34m(\u001b[0m\u001b[0;36m0\u001b[0m\u001b[0;34m)\u001b[0m\u001b[0;34m,\u001b[0m \u001b[0mgroups\u001b[0m\u001b[0;34m,\u001b[0m \u001b[0mtorch\u001b[0m\u001b[0;34m.\u001b[0m\u001b[0mbackends\u001b[0m\u001b[0;34m.\u001b[0m\u001b[0mcudnn\u001b[0m\u001b[0;34m.\u001b[0m\u001b[0mbenchmark\u001b[0m\u001b[0;34m,\u001b[0m\u001b[0;34m\u001b[0m\u001b[0m\n\u001b[1;32m     89\u001b[0m                 torch.backends.cudnn.deterministic, torch.backends.cudnn.enabled)\n\u001b[0;32m---> 90\u001b[0;31m     \u001b[0;32mreturn\u001b[0m \u001b[0mf\u001b[0m\u001b[0;34m(\u001b[0m\u001b[0minput\u001b[0m\u001b[0;34m,\u001b[0m \u001b[0mweight\u001b[0m\u001b[0;34m,\u001b[0m \u001b[0mbias\u001b[0m\u001b[0;34m)\u001b[0m\u001b[0;34m\u001b[0m\u001b[0m\n\u001b[0m\u001b[1;32m     91\u001b[0m \u001b[0;34m\u001b[0m\u001b[0m\n\u001b[1;32m     92\u001b[0m \u001b[0;34m\u001b[0m\u001b[0m\n",
      "\u001b[0;31mRuntimeError\u001b[0m: Expected 4-dimensional input for 4-dimensional weight [3, 3], but got input of size [32, 1, 28, 28] instead"
     ]
    }
   ],
   "source": [
    "test_conv(data)"
   ]
  },
  {
   "cell_type": "code",
   "execution_count": null,
   "metadata": {
    "collapsed": true
   },
   "outputs": [],
   "source": [
    "self.conv1 = tc.nn.Conv2d(1, 10, kernel_size=5)"
   ]
  },
  {
   "cell_type": "code",
   "execution_count": 316,
   "metadata": {},
   "outputs": [
    {
     "data": {
      "text/plain": [
       "torch.Size([32, 1, 28, 28])"
      ]
     },
     "execution_count": 316,
     "metadata": {},
     "output_type": "execute_result"
    }
   ],
   "source": []
  },
  {
   "cell_type": "markdown",
   "metadata": {},
   "source": [
    "## 1.2 Convolution\n",
    "\n",
    "Convolve the filter with the image (i.e., slide over the image spatially, computing **dot products**).\n",
    "\n",
    "We are going to look at only small portion of image at once; In other words, we look at **patch** via **filter (also called \"kernel\" or \"feature detector\")**.\n",
    "Each element in a filter is a weight. You can consider filter as a **weight vector for a patch.**\n",
    "\n",
    "We move filter at each time, and the length of the distance we move the filter is called **stride.**\n",
    "\n",
    "We can add **padding** by adding certain constant to the boundaries of images. It is often called **zero-padding** because we use zero as the value for the padding.\n",
    "\n",
    "As a result of application of filter to an image, you get a **feature map (or activation map).**\n",
    "\n",
    "\n",
    "\n",
    "\n",
    "After applying convolutional layer, apply **pooling layer** to reduce the amount of information. There are mainly two kinds of poolings:\n",
    "1. Max pooling\n",
    "2. Average pooling.\n",
    "\n",
    "### The advantage of using convolutional neural net:\n",
    "1. the size of weight matrix is smaller than fully connected net\n",
    "2. more flexible to handle images.\n",
    "![optional](Figures/cnn1.png)"
   ]
  },
  {
   "cell_type": "code",
   "execution_count": 342,
   "metadata": {
    "collapsed": true
   },
   "outputs": [],
   "source": [
    "class Net(tc.nn.Module):\n",
    "    def __init__(self):\n",
    "        super(Net, self).__init__()\n",
    "        # You can also do\n",
    "        # super().__init__()\n",
    "        self.conv1 = tc.nn.Conv2d(1, 10, kernel_size=5)\n",
    "        self.conv2 = tc.nn.Conv2d(10, 20, kernel_size=5)\n",
    "        self.mp = tc.nn.MaxPool2d(2)\n",
    "        \n",
    "        self.relu = tc.nn.functional.relu\n",
    "        self.fc = tc.nn.Linear(320,10)\n",
    "        # self.fc = tc.nn.Linear(??,10)\n",
    "        # In order to determine what should go in ??, you can either use\n",
    "        ## 1. Error: If you put ??, you'll run into a RuntimeError:size mismatch, m1:[64x320], m2:[100x10]\n",
    "        ## and \"320\" is the number that should go into ??.\n",
    "        ## 2. x.size: You can print(x.size) and check the size of x.\n",
    "        self.log_softmax = tc.nn.functional.log_softmax\n",
    "        \n",
    "        \n",
    "    def forward(self, x):\n",
    "        in_size = x.size(0)\n",
    "        x = self.conv1(x)\n",
    "        x = self.relu(self.mp(x))\n",
    "        x = self.conv2(x)\n",
    "        x = self.relu(self.mp(x))\n",
    "        x = x.view(in_size, -1)\n",
    "        x = self.fc(x)\n",
    "        return self.log_softmax(x)"
   ]
  },
  {
   "cell_type": "code",
   "execution_count": 343,
   "metadata": {},
   "outputs": [
    {
     "data": {
      "text/plain": [
       "torch.Size([32, 1, 28, 28])"
      ]
     },
     "execution_count": 343,
     "metadata": {},
     "output_type": "execute_result"
    }
   ],
   "source": [
    "data.size() # [0]: Batch size, 1: Number of channels, 28*28: Input size"
   ]
  },
  {
   "cell_type": "code",
   "execution_count": 344,
   "metadata": {
    "collapsed": true
   },
   "outputs": [],
   "source": [
    "train_dataset = datasets.MNIST(root=\"./Data/MNIST/\", train=True,\n",
    "#                                transform=transforms.Compose([transforms.ToTensor()]))\n",
    "                               transform=transforms.Compose([transforms.ToTensor(),\n",
    "                                                             transforms.Normalize((0.13066062, ), (0.30810776, ))]))\n",
    "test_dataset = datasets.MNIST(root=\"./Data/MNIST/\", train=False,\n",
    "                              transform=transforms.Compose([transforms.ToTensor(),\n",
    "                                                             transforms.Normalize((0.13066062, ), (0.30810776, ))]))\n",
    "train_loader = DataLoader(dataset=train_dataset, shuffle = True, batch_size=64)\n",
    "test_loader = DataLoader(dataset=test_dataset, shuffle=False, batch_size=64)"
   ]
  },
  {
   "cell_type": "code",
   "execution_count": 345,
   "metadata": {
    "collapsed": true
   },
   "outputs": [],
   "source": [
    "# model = Net()\n",
    "# criterion = tc.nn.BCELoss()\n",
    "# optimizer = tc.optim.Adam(model.parameters(), lr=0.01)\n",
    "\n",
    "model = Net()\n",
    "criterion = tc.nn.CrossEntropyLoss()\n",
    "# CHOICE OF CRITERION IS VERY IMPORTANT!!!\n",
    "# criterion = tc.nn.BCELoss() does not work.\n",
    "optimizer = tc.optim.SGD(model.parameters(), lr=0.01, momentum=0.5)"
   ]
  },
  {
   "cell_type": "code",
   "execution_count": 346,
   "metadata": {
    "collapsed": true
   },
   "outputs": [],
   "source": [
    "traTodef train(epoch):\n",
    "    model.train()\n",
    "    for batch_idx, (data, label) in enumerate(train_loader):\n",
    "        data, label = Variable(data), Variable(label)\n",
    "        pred_label = model(data)\n",
    "        loss = criterion(pred_label, label)\n",
    "        optimizer.zero_grad()\n",
    "        loss.backward()\n",
    "        optimizer.step()\n",
    "        \n",
    "        if batch_idx % 10 == 0:\n",
    "            print('Train Epoch: {} Batch Index: {} [{}/{} ({:.0f}%)]\\tLoss: {:.6f}'\n",
    "                 .format(epoch, batch_idx, batch_idx*len(data), len(train_loader.dataset), 100.*batch_idx/len(train_loader),\n",
    "                 loss.data[0]))"
   ]
  },
  {
   "cell_type": "code",
   "execution_count": 347,
   "metadata": {
    "collapsed": true
   },
   "outputs": [],
   "source": [
    "def test():\n",
    "    model.eval()\n",
    "    test_loss = 0\n",
    "    correct = 0\n",
    "    for data, label in test_loader:\n",
    "        data, label = Variable(data), Variable(label)\n",
    "        pred_label = model(data)\n",
    "        test_loss += criterion(pred_label, label).data[0]\n",
    "#         test_loss += tc.nn.functional.nll_loss(pred_label, label).data[0]\n",
    "                \n",
    "        pred = pred_label.data.max(1, keepdim=True)[1]\n",
    "        correct += pred.eq(label.data.view_as(pred)).cpu().sum()\n",
    "        \n",
    "    test_loss /= len(test_loader.dataset)\n",
    "    print('\\nTest set: Average loss: {:.4f}, Accuracy: {}/{} ({:.0f}%)\\n'.format(\n",
    "    test_loss, correct, len(test_loader.dataset),\n",
    "    100. * correct / len(test_loader.dataset)))"
   ]
  },
  {
   "cell_type": "code",
   "execution_count": 388,
   "metadata": {},
   "outputs": [
    {
     "data": {
      "text/plain": [
       "\n",
       "1.00000e-03 *\n",
       " -0.9056\n",
       " -0.6322\n",
       " -0.0044\n",
       " -0.0253\n",
       " -0.1299\n",
       " -0.0084\n",
       " -0.2233\n",
       " -0.2742\n",
       " -0.9980\n",
       " -0.0754\n",
       " -0.4945\n",
       " -0.0054\n",
       " -1.6616\n",
       " -0.0100\n",
       " -0.3715\n",
       " -0.0337\n",
       "[torch.FloatTensor of size 16x1]"
      ]
     },
     "execution_count": 388,
     "metadata": {},
     "output_type": "execute_result"
    }
   ],
   "source": [
    "pred_label.data.max(1, keepdim=True)[0]"
   ]
  },
  {
   "cell_type": "code",
   "execution_count": 351,
   "metadata": {
    "scrolled": false
   },
   "outputs": [
    {
     "name": "stderr",
     "output_type": "stream",
     "text": [
      "/home/sewook/anaconda3/lib/python3.6/site-packages/ipykernel_launcher.py:28: UserWarning: Implicit dimension choice for log_softmax has been deprecated. Change the call to include dim=X as an argument.\n"
     ]
    },
    {
     "name": "stdout",
     "output_type": "stream",
     "text": [
      "Train Epoch: 0 Batch Index: 0 [0/60000 (0%)]\tLoss: 0.016593\n",
      "Train Epoch: 0 Batch Index: 10 [640/60000 (1%)]\tLoss: 0.040706\n",
      "Train Epoch: 0 Batch Index: 20 [1280/60000 (2%)]\tLoss: 0.205147\n",
      "Train Epoch: 0 Batch Index: 30 [1920/60000 (3%)]\tLoss: 0.032853\n",
      "Train Epoch: 0 Batch Index: 40 [2560/60000 (4%)]\tLoss: 0.108832\n",
      "Train Epoch: 0 Batch Index: 50 [3200/60000 (5%)]\tLoss: 0.047786\n",
      "Train Epoch: 0 Batch Index: 60 [3840/60000 (6%)]\tLoss: 0.044371\n",
      "Train Epoch: 0 Batch Index: 70 [4480/60000 (7%)]\tLoss: 0.017657\n",
      "Train Epoch: 0 Batch Index: 80 [5120/60000 (9%)]\tLoss: 0.053177\n",
      "Train Epoch: 0 Batch Index: 90 [5760/60000 (10%)]\tLoss: 0.070906\n",
      "Train Epoch: 0 Batch Index: 100 [6400/60000 (11%)]\tLoss: 0.060133\n",
      "Train Epoch: 0 Batch Index: 110 [7040/60000 (12%)]\tLoss: 0.046972\n",
      "Train Epoch: 0 Batch Index: 120 [7680/60000 (13%)]\tLoss: 0.045203\n",
      "Train Epoch: 0 Batch Index: 130 [8320/60000 (14%)]\tLoss: 0.051682\n",
      "Train Epoch: 0 Batch Index: 140 [8960/60000 (15%)]\tLoss: 0.051221\n",
      "Train Epoch: 0 Batch Index: 150 [9600/60000 (16%)]\tLoss: 0.079173\n",
      "Train Epoch: 0 Batch Index: 160 [10240/60000 (17%)]\tLoss: 0.033183\n",
      "Train Epoch: 0 Batch Index: 170 [10880/60000 (18%)]\tLoss: 0.155930\n",
      "Train Epoch: 0 Batch Index: 180 [11520/60000 (19%)]\tLoss: 0.040608\n",
      "Train Epoch: 0 Batch Index: 190 [12160/60000 (20%)]\tLoss: 0.023484\n",
      "Train Epoch: 0 Batch Index: 200 [12800/60000 (21%)]\tLoss: 0.007410\n",
      "Train Epoch: 0 Batch Index: 210 [13440/60000 (22%)]\tLoss: 0.128019\n",
      "Train Epoch: 0 Batch Index: 220 [14080/60000 (23%)]\tLoss: 0.043909\n",
      "Train Epoch: 0 Batch Index: 230 [14720/60000 (25%)]\tLoss: 0.103275\n",
      "Train Epoch: 0 Batch Index: 240 [15360/60000 (26%)]\tLoss: 0.069200\n",
      "Train Epoch: 0 Batch Index: 250 [16000/60000 (27%)]\tLoss: 0.041269\n",
      "Train Epoch: 0 Batch Index: 260 [16640/60000 (28%)]\tLoss: 0.095178\n",
      "Train Epoch: 0 Batch Index: 270 [17280/60000 (29%)]\tLoss: 0.044291\n",
      "Train Epoch: 0 Batch Index: 280 [17920/60000 (30%)]\tLoss: 0.010093\n",
      "Train Epoch: 0 Batch Index: 290 [18560/60000 (31%)]\tLoss: 0.028508\n",
      "Train Epoch: 0 Batch Index: 300 [19200/60000 (32%)]\tLoss: 0.060781\n",
      "Train Epoch: 0 Batch Index: 310 [19840/60000 (33%)]\tLoss: 0.096699\n",
      "Train Epoch: 0 Batch Index: 320 [20480/60000 (34%)]\tLoss: 0.012018\n",
      "Train Epoch: 0 Batch Index: 330 [21120/60000 (35%)]\tLoss: 0.014671\n",
      "Train Epoch: 0 Batch Index: 340 [21760/60000 (36%)]\tLoss: 0.085897\n",
      "Train Epoch: 0 Batch Index: 350 [22400/60000 (37%)]\tLoss: 0.158241\n",
      "Train Epoch: 0 Batch Index: 360 [23040/60000 (38%)]\tLoss: 0.100362\n",
      "Train Epoch: 0 Batch Index: 370 [23680/60000 (39%)]\tLoss: 0.021206\n",
      "Train Epoch: 0 Batch Index: 380 [24320/60000 (41%)]\tLoss: 0.023003\n",
      "Train Epoch: 0 Batch Index: 390 [24960/60000 (42%)]\tLoss: 0.106967\n",
      "Train Epoch: 0 Batch Index: 400 [25600/60000 (43%)]\tLoss: 0.085934\n",
      "Train Epoch: 0 Batch Index: 410 [26240/60000 (44%)]\tLoss: 0.145419\n",
      "Train Epoch: 0 Batch Index: 420 [26880/60000 (45%)]\tLoss: 0.116918\n",
      "Train Epoch: 0 Batch Index: 430 [27520/60000 (46%)]\tLoss: 0.021512\n",
      "Train Epoch: 0 Batch Index: 440 [28160/60000 (47%)]\tLoss: 0.066246\n",
      "Train Epoch: 0 Batch Index: 450 [28800/60000 (48%)]\tLoss: 0.089287\n",
      "Train Epoch: 0 Batch Index: 460 [29440/60000 (49%)]\tLoss: 0.024254\n",
      "Train Epoch: 0 Batch Index: 470 [30080/60000 (50%)]\tLoss: 0.023999\n",
      "Train Epoch: 0 Batch Index: 480 [30720/60000 (51%)]\tLoss: 0.075881\n",
      "Train Epoch: 0 Batch Index: 490 [31360/60000 (52%)]\tLoss: 0.029710\n",
      "Train Epoch: 0 Batch Index: 500 [32000/60000 (53%)]\tLoss: 0.071756\n",
      "Train Epoch: 0 Batch Index: 510 [32640/60000 (54%)]\tLoss: 0.129088\n",
      "Train Epoch: 0 Batch Index: 520 [33280/60000 (55%)]\tLoss: 0.053126\n",
      "Train Epoch: 0 Batch Index: 530 [33920/60000 (57%)]\tLoss: 0.046580\n",
      "Train Epoch: 0 Batch Index: 540 [34560/60000 (58%)]\tLoss: 0.075055\n",
      "Train Epoch: 0 Batch Index: 550 [35200/60000 (59%)]\tLoss: 0.029107\n",
      "Train Epoch: 0 Batch Index: 560 [35840/60000 (60%)]\tLoss: 0.077738\n",
      "Train Epoch: 0 Batch Index: 570 [36480/60000 (61%)]\tLoss: 0.048081\n",
      "Train Epoch: 0 Batch Index: 580 [37120/60000 (62%)]\tLoss: 0.021538\n",
      "Train Epoch: 0 Batch Index: 590 [37760/60000 (63%)]\tLoss: 0.036210\n",
      "Train Epoch: 0 Batch Index: 600 [38400/60000 (64%)]\tLoss: 0.055336\n",
      "Train Epoch: 0 Batch Index: 610 [39040/60000 (65%)]\tLoss: 0.083192\n",
      "Train Epoch: 0 Batch Index: 620 [39680/60000 (66%)]\tLoss: 0.028273\n",
      "Train Epoch: 0 Batch Index: 630 [40320/60000 (67%)]\tLoss: 0.092735\n",
      "Train Epoch: 0 Batch Index: 640 [40960/60000 (68%)]\tLoss: 0.063935\n",
      "Train Epoch: 0 Batch Index: 650 [41600/60000 (69%)]\tLoss: 0.108438\n",
      "Train Epoch: 0 Batch Index: 660 [42240/60000 (70%)]\tLoss: 0.059515\n",
      "Train Epoch: 0 Batch Index: 670 [42880/60000 (71%)]\tLoss: 0.049034\n",
      "Train Epoch: 0 Batch Index: 680 [43520/60000 (72%)]\tLoss: 0.172811\n",
      "Train Epoch: 0 Batch Index: 690 [44160/60000 (74%)]\tLoss: 0.094348\n",
      "Train Epoch: 0 Batch Index: 700 [44800/60000 (75%)]\tLoss: 0.152409\n",
      "Train Epoch: 0 Batch Index: 710 [45440/60000 (76%)]\tLoss: 0.088196\n",
      "Train Epoch: 0 Batch Index: 720 [46080/60000 (77%)]\tLoss: 0.020253\n",
      "Train Epoch: 0 Batch Index: 730 [46720/60000 (78%)]\tLoss: 0.026078\n",
      "Train Epoch: 0 Batch Index: 740 [47360/60000 (79%)]\tLoss: 0.083483\n",
      "Train Epoch: 0 Batch Index: 750 [48000/60000 (80%)]\tLoss: 0.029836\n",
      "Train Epoch: 0 Batch Index: 760 [48640/60000 (81%)]\tLoss: 0.149540\n",
      "Train Epoch: 0 Batch Index: 770 [49280/60000 (82%)]\tLoss: 0.014099\n",
      "Train Epoch: 0 Batch Index: 780 [49920/60000 (83%)]\tLoss: 0.009762\n",
      "Train Epoch: 0 Batch Index: 790 [50560/60000 (84%)]\tLoss: 0.043926\n",
      "Train Epoch: 0 Batch Index: 800 [51200/60000 (85%)]\tLoss: 0.017204\n",
      "Train Epoch: 0 Batch Index: 810 [51840/60000 (86%)]\tLoss: 0.066429\n",
      "Train Epoch: 0 Batch Index: 820 [52480/60000 (87%)]\tLoss: 0.012129\n",
      "Train Epoch: 0 Batch Index: 830 [53120/60000 (88%)]\tLoss: 0.131168\n",
      "Train Epoch: 0 Batch Index: 840 [53760/60000 (90%)]\tLoss: 0.045844\n",
      "Train Epoch: 0 Batch Index: 850 [54400/60000 (91%)]\tLoss: 0.023171\n",
      "Train Epoch: 0 Batch Index: 860 [55040/60000 (92%)]\tLoss: 0.039384\n",
      "Train Epoch: 0 Batch Index: 870 [55680/60000 (93%)]\tLoss: 0.021002\n",
      "Train Epoch: 0 Batch Index: 880 [56320/60000 (94%)]\tLoss: 0.016411\n",
      "Train Epoch: 0 Batch Index: 890 [56960/60000 (95%)]\tLoss: 0.150703\n",
      "Train Epoch: 0 Batch Index: 900 [57600/60000 (96%)]\tLoss: 0.102630\n",
      "Train Epoch: 0 Batch Index: 910 [58240/60000 (97%)]\tLoss: 0.179788\n",
      "Train Epoch: 0 Batch Index: 920 [58880/60000 (98%)]\tLoss: 0.213831\n",
      "Train Epoch: 0 Batch Index: 930 [59520/60000 (99%)]\tLoss: 0.031125\n",
      "\n",
      "Test set: Average loss: 0.0009, Accuracy: 9805/10000 (98%)\n",
      "\n",
      "Train Epoch: 1 Batch Index: 0 [0/60000 (0%)]\tLoss: 0.067488\n",
      "Train Epoch: 1 Batch Index: 10 [640/60000 (1%)]\tLoss: 0.062552\n",
      "Train Epoch: 1 Batch Index: 20 [1280/60000 (2%)]\tLoss: 0.081395\n",
      "Train Epoch: 1 Batch Index: 30 [1920/60000 (3%)]\tLoss: 0.037048\n",
      "Train Epoch: 1 Batch Index: 40 [2560/60000 (4%)]\tLoss: 0.022217\n",
      "Train Epoch: 1 Batch Index: 50 [3200/60000 (5%)]\tLoss: 0.016495\n",
      "Train Epoch: 1 Batch Index: 60 [3840/60000 (6%)]\tLoss: 0.023776\n",
      "Train Epoch: 1 Batch Index: 70 [4480/60000 (7%)]\tLoss: 0.036846\n",
      "Train Epoch: 1 Batch Index: 80 [5120/60000 (9%)]\tLoss: 0.017755\n",
      "Train Epoch: 1 Batch Index: 90 [5760/60000 (10%)]\tLoss: 0.072179\n",
      "Train Epoch: 1 Batch Index: 100 [6400/60000 (11%)]\tLoss: 0.043224\n",
      "Train Epoch: 1 Batch Index: 110 [7040/60000 (12%)]\tLoss: 0.019359\n",
      "Train Epoch: 1 Batch Index: 120 [7680/60000 (13%)]\tLoss: 0.094348\n",
      "Train Epoch: 1 Batch Index: 130 [8320/60000 (14%)]\tLoss: 0.028982\n",
      "Train Epoch: 1 Batch Index: 140 [8960/60000 (15%)]\tLoss: 0.057745\n",
      "Train Epoch: 1 Batch Index: 150 [9600/60000 (16%)]\tLoss: 0.028599\n",
      "Train Epoch: 1 Batch Index: 160 [10240/60000 (17%)]\tLoss: 0.023876\n",
      "Train Epoch: 1 Batch Index: 170 [10880/60000 (18%)]\tLoss: 0.106477\n",
      "Train Epoch: 1 Batch Index: 180 [11520/60000 (19%)]\tLoss: 0.114898\n",
      "Train Epoch: 1 Batch Index: 190 [12160/60000 (20%)]\tLoss: 0.014725\n",
      "Train Epoch: 1 Batch Index: 200 [12800/60000 (21%)]\tLoss: 0.062425\n",
      "Train Epoch: 1 Batch Index: 210 [13440/60000 (22%)]\tLoss: 0.112848\n",
      "Train Epoch: 1 Batch Index: 220 [14080/60000 (23%)]\tLoss: 0.049460\n",
      "Train Epoch: 1 Batch Index: 230 [14720/60000 (25%)]\tLoss: 0.005303\n",
      "Train Epoch: 1 Batch Index: 240 [15360/60000 (26%)]\tLoss: 0.007025\n",
      "Train Epoch: 1 Batch Index: 250 [16000/60000 (27%)]\tLoss: 0.044566\n",
      "Train Epoch: 1 Batch Index: 260 [16640/60000 (28%)]\tLoss: 0.038899\n",
      "Train Epoch: 1 Batch Index: 270 [17280/60000 (29%)]\tLoss: 0.077642\n",
      "Train Epoch: 1 Batch Index: 280 [17920/60000 (30%)]\tLoss: 0.010918\n",
      "Train Epoch: 1 Batch Index: 290 [18560/60000 (31%)]\tLoss: 0.028507\n"
     ]
    },
    {
     "name": "stdout",
     "output_type": "stream",
     "text": [
      "Train Epoch: 1 Batch Index: 300 [19200/60000 (32%)]\tLoss: 0.009732\n",
      "Train Epoch: 1 Batch Index: 310 [19840/60000 (33%)]\tLoss: 0.023860\n",
      "Train Epoch: 1 Batch Index: 320 [20480/60000 (34%)]\tLoss: 0.033005\n",
      "Train Epoch: 1 Batch Index: 330 [21120/60000 (35%)]\tLoss: 0.025537\n",
      "Train Epoch: 1 Batch Index: 340 [21760/60000 (36%)]\tLoss: 0.139368\n",
      "Train Epoch: 1 Batch Index: 350 [22400/60000 (37%)]\tLoss: 0.011287\n",
      "Train Epoch: 1 Batch Index: 360 [23040/60000 (38%)]\tLoss: 0.049648\n",
      "Train Epoch: 1 Batch Index: 370 [23680/60000 (39%)]\tLoss: 0.087611\n",
      "Train Epoch: 1 Batch Index: 380 [24320/60000 (41%)]\tLoss: 0.024162\n",
      "Train Epoch: 1 Batch Index: 390 [24960/60000 (42%)]\tLoss: 0.063562\n",
      "Train Epoch: 1 Batch Index: 400 [25600/60000 (43%)]\tLoss: 0.027200\n",
      "Train Epoch: 1 Batch Index: 410 [26240/60000 (44%)]\tLoss: 0.145244\n",
      "Train Epoch: 1 Batch Index: 420 [26880/60000 (45%)]\tLoss: 0.025795\n",
      "Train Epoch: 1 Batch Index: 430 [27520/60000 (46%)]\tLoss: 0.028790\n",
      "Train Epoch: 1 Batch Index: 440 [28160/60000 (47%)]\tLoss: 0.037784\n",
      "Train Epoch: 1 Batch Index: 450 [28800/60000 (48%)]\tLoss: 0.061963\n",
      "Train Epoch: 1 Batch Index: 460 [29440/60000 (49%)]\tLoss: 0.036076\n",
      "Train Epoch: 1 Batch Index: 470 [30080/60000 (50%)]\tLoss: 0.148373\n",
      "Train Epoch: 1 Batch Index: 480 [30720/60000 (51%)]\tLoss: 0.108944\n",
      "Train Epoch: 1 Batch Index: 490 [31360/60000 (52%)]\tLoss: 0.023114\n",
      "Train Epoch: 1 Batch Index: 500 [32000/60000 (53%)]\tLoss: 0.118208\n",
      "Train Epoch: 1 Batch Index: 510 [32640/60000 (54%)]\tLoss: 0.024091\n",
      "Train Epoch: 1 Batch Index: 520 [33280/60000 (55%)]\tLoss: 0.005058\n",
      "Train Epoch: 1 Batch Index: 530 [33920/60000 (57%)]\tLoss: 0.051942\n",
      "Train Epoch: 1 Batch Index: 540 [34560/60000 (58%)]\tLoss: 0.120968\n",
      "Train Epoch: 1 Batch Index: 550 [35200/60000 (59%)]\tLoss: 0.059563\n",
      "Train Epoch: 1 Batch Index: 560 [35840/60000 (60%)]\tLoss: 0.068303\n",
      "Train Epoch: 1 Batch Index: 570 [36480/60000 (61%)]\tLoss: 0.030008\n",
      "Train Epoch: 1 Batch Index: 580 [37120/60000 (62%)]\tLoss: 0.079127\n",
      "Train Epoch: 1 Batch Index: 590 [37760/60000 (63%)]\tLoss: 0.046648\n",
      "Train Epoch: 1 Batch Index: 600 [38400/60000 (64%)]\tLoss: 0.050947\n",
      "Train Epoch: 1 Batch Index: 610 [39040/60000 (65%)]\tLoss: 0.014786\n",
      "Train Epoch: 1 Batch Index: 620 [39680/60000 (66%)]\tLoss: 0.015528\n",
      "Train Epoch: 1 Batch Index: 630 [40320/60000 (67%)]\tLoss: 0.111218\n",
      "Train Epoch: 1 Batch Index: 640 [40960/60000 (68%)]\tLoss: 0.058272\n",
      "Train Epoch: 1 Batch Index: 650 [41600/60000 (69%)]\tLoss: 0.030317\n",
      "Train Epoch: 1 Batch Index: 660 [42240/60000 (70%)]\tLoss: 0.092924\n",
      "Train Epoch: 1 Batch Index: 670 [42880/60000 (71%)]\tLoss: 0.029954\n",
      "Train Epoch: 1 Batch Index: 680 [43520/60000 (72%)]\tLoss: 0.085147\n",
      "Train Epoch: 1 Batch Index: 690 [44160/60000 (74%)]\tLoss: 0.101467\n",
      "Train Epoch: 1 Batch Index: 700 [44800/60000 (75%)]\tLoss: 0.114487\n",
      "Train Epoch: 1 Batch Index: 710 [45440/60000 (76%)]\tLoss: 0.025938\n",
      "Train Epoch: 1 Batch Index: 720 [46080/60000 (77%)]\tLoss: 0.074748\n",
      "Train Epoch: 1 Batch Index: 730 [46720/60000 (78%)]\tLoss: 0.052827\n",
      "Train Epoch: 1 Batch Index: 740 [47360/60000 (79%)]\tLoss: 0.047158\n",
      "Train Epoch: 1 Batch Index: 750 [48000/60000 (80%)]\tLoss: 0.048438\n",
      "Train Epoch: 1 Batch Index: 760 [48640/60000 (81%)]\tLoss: 0.007399\n",
      "Train Epoch: 1 Batch Index: 770 [49280/60000 (82%)]\tLoss: 0.051220\n",
      "Train Epoch: 1 Batch Index: 780 [49920/60000 (83%)]\tLoss: 0.012492\n",
      "Train Epoch: 1 Batch Index: 790 [50560/60000 (84%)]\tLoss: 0.037978\n",
      "Train Epoch: 1 Batch Index: 800 [51200/60000 (85%)]\tLoss: 0.159508\n",
      "Train Epoch: 1 Batch Index: 810 [51840/60000 (86%)]\tLoss: 0.026347\n",
      "Train Epoch: 1 Batch Index: 820 [52480/60000 (87%)]\tLoss: 0.031410\n",
      "Train Epoch: 1 Batch Index: 830 [53120/60000 (88%)]\tLoss: 0.106824\n",
      "Train Epoch: 1 Batch Index: 840 [53760/60000 (90%)]\tLoss: 0.018521\n",
      "Train Epoch: 1 Batch Index: 850 [54400/60000 (91%)]\tLoss: 0.022321\n",
      "Train Epoch: 1 Batch Index: 860 [55040/60000 (92%)]\tLoss: 0.061198\n",
      "Train Epoch: 1 Batch Index: 870 [55680/60000 (93%)]\tLoss: 0.010363\n",
      "Train Epoch: 1 Batch Index: 880 [56320/60000 (94%)]\tLoss: 0.017543\n",
      "Train Epoch: 1 Batch Index: 890 [56960/60000 (95%)]\tLoss: 0.060584\n",
      "Train Epoch: 1 Batch Index: 900 [57600/60000 (96%)]\tLoss: 0.096471\n",
      "Train Epoch: 1 Batch Index: 910 [58240/60000 (97%)]\tLoss: 0.101830\n",
      "Train Epoch: 1 Batch Index: 920 [58880/60000 (98%)]\tLoss: 0.053891\n",
      "Train Epoch: 1 Batch Index: 930 [59520/60000 (99%)]\tLoss: 0.005907\n",
      "\n",
      "Test set: Average loss: 0.0008, Accuracy: 9840/10000 (98%)\n",
      "\n"
     ]
    }
   ],
   "source": [
    "for epoch in range(2):\n",
    "    train(epoch)\n",
    "    model.eval()\n",
    "    test_loss = 0\n",
    "    correct = 0\n",
    "\n",
    "    for data, label in test_loader:\n",
    "        data, label = Variable(data), Variable(label)\n",
    "        pred_label = model(data)\n",
    "        test_loss += criterion(pred_label, label).data[0]\n",
    "#         test_loss += tc.nn.functional.nll_loss(pred_label, label).data[0]\n",
    "                \n",
    "        pred = pred_label.data.max(1, keepdim=True)[1]\n",
    "        correct += pred.eq(label.data.view_as(pred)).cpu().sum()\n",
    "        \n",
    "    test_loss /= len(test_loader.dataset)\n",
    "    print('\\nTest set: Average loss: {:.4f}, Accuracy: {}/{} ({:.0f}%)\\n'.format(\n",
    "    test_loss, correct, len(test_loader.dataset),\n",
    "    100. * correct / len(test_loader.dataset)))"
   ]
  },
  {
   "cell_type": "code",
   "execution_count": 272,
   "metadata": {
    "scrolled": false
   },
   "outputs": [
    {
     "name": "stderr",
     "output_type": "stream",
     "text": [
      "/home/sewook/anaconda3/lib/python3.6/site-packages/ipykernel_launcher.py:28: UserWarning: Implicit dimension choice for log_softmax has been deprecated. Change the call to include dim=X as an argument.\n"
     ]
    },
    {
     "name": "stdout",
     "output_type": "stream",
     "text": [
      "Train Epoch: 0 Batch Index: 0 [0/60000 (0%)]\tLoss: 2.302660\n",
      "Train Epoch: 0 Batch Index: 10 [640/60000 (1%)]\tLoss: 2.202559\n",
      "Train Epoch: 0 Batch Index: 20 [1280/60000 (2%)]\tLoss: 2.005182\n",
      "Train Epoch: 0 Batch Index: 30 [1920/60000 (3%)]\tLoss: 1.783340\n",
      "Train Epoch: 0 Batch Index: 40 [2560/60000 (4%)]\tLoss: 1.254794\n",
      "Train Epoch: 0 Batch Index: 50 [3200/60000 (5%)]\tLoss: 0.805247\n",
      "Train Epoch: 0 Batch Index: 60 [3840/60000 (6%)]\tLoss: 0.695996\n",
      "Train Epoch: 0 Batch Index: 70 [4480/60000 (7%)]\tLoss: 0.625212\n",
      "Train Epoch: 0 Batch Index: 80 [5120/60000 (9%)]\tLoss: 0.531429\n",
      "Train Epoch: 0 Batch Index: 90 [5760/60000 (10%)]\tLoss: 0.556887\n",
      "Train Epoch: 0 Batch Index: 100 [6400/60000 (11%)]\tLoss: 0.572285\n",
      "Train Epoch: 0 Batch Index: 110 [7040/60000 (12%)]\tLoss: 0.516710\n",
      "Train Epoch: 0 Batch Index: 120 [7680/60000 (13%)]\tLoss: 0.339140\n",
      "Train Epoch: 0 Batch Index: 130 [8320/60000 (14%)]\tLoss: 0.272959\n",
      "Train Epoch: 0 Batch Index: 140 [8960/60000 (15%)]\tLoss: 0.310859\n",
      "Train Epoch: 0 Batch Index: 150 [9600/60000 (16%)]\tLoss: 0.275856\n",
      "Train Epoch: 0 Batch Index: 160 [10240/60000 (17%)]\tLoss: 0.397903\n",
      "Train Epoch: 0 Batch Index: 170 [10880/60000 (18%)]\tLoss: 0.454698\n",
      "Train Epoch: 0 Batch Index: 180 [11520/60000 (19%)]\tLoss: 0.307532\n",
      "Train Epoch: 0 Batch Index: 190 [12160/60000 (20%)]\tLoss: 0.181567\n",
      "Train Epoch: 0 Batch Index: 200 [12800/60000 (21%)]\tLoss: 0.543682\n",
      "Train Epoch: 0 Batch Index: 210 [13440/60000 (22%)]\tLoss: 0.264143\n",
      "Train Epoch: 0 Batch Index: 220 [14080/60000 (23%)]\tLoss: 0.166200\n",
      "Train Epoch: 0 Batch Index: 230 [14720/60000 (25%)]\tLoss: 0.339905\n",
      "Train Epoch: 0 Batch Index: 240 [15360/60000 (26%)]\tLoss: 0.234751\n",
      "Train Epoch: 0 Batch Index: 250 [16000/60000 (27%)]\tLoss: 0.279439\n",
      "Train Epoch: 0 Batch Index: 260 [16640/60000 (28%)]\tLoss: 0.401434\n",
      "Train Epoch: 0 Batch Index: 270 [17280/60000 (29%)]\tLoss: 0.254901\n",
      "Train Epoch: 0 Batch Index: 280 [17920/60000 (30%)]\tLoss: 0.279268\n",
      "Train Epoch: 0 Batch Index: 290 [18560/60000 (31%)]\tLoss: 0.268268\n",
      "Train Epoch: 0 Batch Index: 300 [19200/60000 (32%)]\tLoss: 0.261485\n",
      "Train Epoch: 0 Batch Index: 310 [19840/60000 (33%)]\tLoss: 0.237769\n",
      "Train Epoch: 0 Batch Index: 320 [20480/60000 (34%)]\tLoss: 0.305905\n",
      "Train Epoch: 0 Batch Index: 330 [21120/60000 (35%)]\tLoss: 0.152729\n",
      "Train Epoch: 0 Batch Index: 340 [21760/60000 (36%)]\tLoss: 0.328675\n",
      "Train Epoch: 0 Batch Index: 350 [22400/60000 (37%)]\tLoss: 0.156652\n",
      "Train Epoch: 0 Batch Index: 360 [23040/60000 (38%)]\tLoss: 0.211280\n",
      "Train Epoch: 0 Batch Index: 370 [23680/60000 (39%)]\tLoss: 0.234724\n",
      "Train Epoch: 0 Batch Index: 380 [24320/60000 (41%)]\tLoss: 0.122107\n",
      "Train Epoch: 0 Batch Index: 390 [24960/60000 (42%)]\tLoss: 0.249447\n",
      "Train Epoch: 0 Batch Index: 400 [25600/60000 (43%)]\tLoss: 0.116462\n",
      "Train Epoch: 0 Batch Index: 410 [26240/60000 (44%)]\tLoss: 0.229434\n",
      "Train Epoch: 0 Batch Index: 420 [26880/60000 (45%)]\tLoss: 0.289157\n",
      "Train Epoch: 0 Batch Index: 430 [27520/60000 (46%)]\tLoss: 0.174530\n",
      "Train Epoch: 0 Batch Index: 440 [28160/60000 (47%)]\tLoss: 0.204495\n",
      "Train Epoch: 0 Batch Index: 450 [28800/60000 (48%)]\tLoss: 0.080771\n",
      "Train Epoch: 0 Batch Index: 460 [29440/60000 (49%)]\tLoss: 0.255539\n",
      "Train Epoch: 0 Batch Index: 470 [30080/60000 (50%)]\tLoss: 0.190616\n",
      "Train Epoch: 0 Batch Index: 480 [30720/60000 (51%)]\tLoss: 0.239972\n",
      "Train Epoch: 0 Batch Index: 490 [31360/60000 (52%)]\tLoss: 0.102201\n",
      "Train Epoch: 0 Batch Index: 500 [32000/60000 (53%)]\tLoss: 0.164108\n",
      "Train Epoch: 0 Batch Index: 510 [32640/60000 (54%)]\tLoss: 0.141678\n",
      "Train Epoch: 0 Batch Index: 520 [33280/60000 (55%)]\tLoss: 0.222810\n",
      "Train Epoch: 0 Batch Index: 530 [33920/60000 (57%)]\tLoss: 0.052681\n",
      "Train Epoch: 0 Batch Index: 540 [34560/60000 (58%)]\tLoss: 0.173343\n",
      "Train Epoch: 0 Batch Index: 550 [35200/60000 (59%)]\tLoss: 0.125840\n",
      "Train Epoch: 0 Batch Index: 560 [35840/60000 (60%)]\tLoss: 0.316044\n",
      "Train Epoch: 0 Batch Index: 570 [36480/60000 (61%)]\tLoss: 0.059044\n",
      "Train Epoch: 0 Batch Index: 580 [37120/60000 (62%)]\tLoss: 0.090402\n",
      "Train Epoch: 0 Batch Index: 590 [37760/60000 (63%)]\tLoss: 0.179173\n",
      "Train Epoch: 0 Batch Index: 600 [38400/60000 (64%)]\tLoss: 0.116849\n",
      "Train Epoch: 0 Batch Index: 610 [39040/60000 (65%)]\tLoss: 0.132352\n",
      "Train Epoch: 0 Batch Index: 620 [39680/60000 (66%)]\tLoss: 0.121241\n",
      "Train Epoch: 0 Batch Index: 630 [40320/60000 (67%)]\tLoss: 0.176506\n",
      "Train Epoch: 0 Batch Index: 640 [40960/60000 (68%)]\tLoss: 0.105298\n",
      "Train Epoch: 0 Batch Index: 650 [41600/60000 (69%)]\tLoss: 0.200363\n",
      "Train Epoch: 0 Batch Index: 660 [42240/60000 (70%)]\tLoss: 0.156415\n",
      "Train Epoch: 0 Batch Index: 670 [42880/60000 (71%)]\tLoss: 0.212251\n",
      "Train Epoch: 0 Batch Index: 680 [43520/60000 (72%)]\tLoss: 0.157631\n",
      "Train Epoch: 0 Batch Index: 690 [44160/60000 (74%)]\tLoss: 0.069225\n",
      "Train Epoch: 0 Batch Index: 700 [44800/60000 (75%)]\tLoss: 0.151110\n",
      "Train Epoch: 0 Batch Index: 710 [45440/60000 (76%)]\tLoss: 0.140095\n",
      "Train Epoch: 0 Batch Index: 720 [46080/60000 (77%)]\tLoss: 0.112652\n",
      "Train Epoch: 0 Batch Index: 730 [46720/60000 (78%)]\tLoss: 0.034978\n",
      "Train Epoch: 0 Batch Index: 740 [47360/60000 (79%)]\tLoss: 0.163778\n",
      "Train Epoch: 0 Batch Index: 750 [48000/60000 (80%)]\tLoss: 0.083182\n",
      "Train Epoch: 0 Batch Index: 760 [48640/60000 (81%)]\tLoss: 0.124662\n",
      "Train Epoch: 0 Batch Index: 770 [49280/60000 (82%)]\tLoss: 0.185343\n",
      "Train Epoch: 0 Batch Index: 780 [49920/60000 (83%)]\tLoss: 0.150263\n",
      "Train Epoch: 0 Batch Index: 790 [50560/60000 (84%)]\tLoss: 0.106150\n",
      "Train Epoch: 0 Batch Index: 800 [51200/60000 (85%)]\tLoss: 0.048554\n",
      "Train Epoch: 0 Batch Index: 810 [51840/60000 (86%)]\tLoss: 0.068669\n",
      "Train Epoch: 0 Batch Index: 820 [52480/60000 (87%)]\tLoss: 0.085344\n",
      "Train Epoch: 0 Batch Index: 830 [53120/60000 (88%)]\tLoss: 0.200372\n",
      "Train Epoch: 0 Batch Index: 840 [53760/60000 (90%)]\tLoss: 0.067635\n",
      "Train Epoch: 0 Batch Index: 850 [54400/60000 (91%)]\tLoss: 0.060119\n",
      "Train Epoch: 0 Batch Index: 860 [55040/60000 (92%)]\tLoss: 0.141875\n",
      "Train Epoch: 0 Batch Index: 870 [55680/60000 (93%)]\tLoss: 0.167430\n",
      "Train Epoch: 0 Batch Index: 880 [56320/60000 (94%)]\tLoss: 0.221729\n",
      "Train Epoch: 0 Batch Index: 890 [56960/60000 (95%)]\tLoss: 0.141670\n",
      "Train Epoch: 0 Batch Index: 900 [57600/60000 (96%)]\tLoss: 0.273641\n",
      "Train Epoch: 0 Batch Index: 910 [58240/60000 (97%)]\tLoss: 0.137784\n",
      "Train Epoch: 0 Batch Index: 920 [58880/60000 (98%)]\tLoss: 0.033073\n",
      "Train Epoch: 0 Batch Index: 930 [59520/60000 (99%)]\tLoss: 0.143642\n",
      "\n",
      "Test set: Average loss: 0.0016, Accuracy: 9694/10000 (97%)\n",
      "\n",
      "Train Epoch: 1 Batch Index: 0 [0/60000 (0%)]\tLoss: 0.078781\n",
      "Train Epoch: 1 Batch Index: 10 [640/60000 (1%)]\tLoss: 0.238926\n",
      "Train Epoch: 1 Batch Index: 20 [1280/60000 (2%)]\tLoss: 0.052364\n",
      "Train Epoch: 1 Batch Index: 30 [1920/60000 (3%)]\tLoss: 0.136106\n",
      "Train Epoch: 1 Batch Index: 40 [2560/60000 (4%)]\tLoss: 0.086645\n",
      "Train Epoch: 1 Batch Index: 50 [3200/60000 (5%)]\tLoss: 0.107245\n",
      "Train Epoch: 1 Batch Index: 60 [3840/60000 (6%)]\tLoss: 0.050341\n",
      "Train Epoch: 1 Batch Index: 70 [4480/60000 (7%)]\tLoss: 0.074894\n",
      "Train Epoch: 1 Batch Index: 80 [5120/60000 (9%)]\tLoss: 0.103557\n",
      "Train Epoch: 1 Batch Index: 90 [5760/60000 (10%)]\tLoss: 0.085462\n",
      "Train Epoch: 1 Batch Index: 100 [6400/60000 (11%)]\tLoss: 0.066412\n",
      "Train Epoch: 1 Batch Index: 110 [7040/60000 (12%)]\tLoss: 0.100528\n",
      "Train Epoch: 1 Batch Index: 120 [7680/60000 (13%)]\tLoss: 0.092078\n",
      "Train Epoch: 1 Batch Index: 130 [8320/60000 (14%)]\tLoss: 0.072658\n",
      "Train Epoch: 1 Batch Index: 140 [8960/60000 (15%)]\tLoss: 0.119856\n",
      "Train Epoch: 1 Batch Index: 150 [9600/60000 (16%)]\tLoss: 0.129466\n",
      "Train Epoch: 1 Batch Index: 160 [10240/60000 (17%)]\tLoss: 0.087810\n",
      "Train Epoch: 1 Batch Index: 170 [10880/60000 (18%)]\tLoss: 0.116112\n",
      "Train Epoch: 1 Batch Index: 180 [11520/60000 (19%)]\tLoss: 0.106712\n",
      "Train Epoch: 1 Batch Index: 190 [12160/60000 (20%)]\tLoss: 0.096505\n",
      "Train Epoch: 1 Batch Index: 200 [12800/60000 (21%)]\tLoss: 0.120947\n",
      "Train Epoch: 1 Batch Index: 210 [13440/60000 (22%)]\tLoss: 0.068102\n",
      "Train Epoch: 1 Batch Index: 220 [14080/60000 (23%)]\tLoss: 0.086466\n",
      "Train Epoch: 1 Batch Index: 230 [14720/60000 (25%)]\tLoss: 0.095137\n",
      "Train Epoch: 1 Batch Index: 240 [15360/60000 (26%)]\tLoss: 0.032231\n",
      "Train Epoch: 1 Batch Index: 250 [16000/60000 (27%)]\tLoss: 0.157567\n",
      "Train Epoch: 1 Batch Index: 260 [16640/60000 (28%)]\tLoss: 0.034298\n",
      "Train Epoch: 1 Batch Index: 270 [17280/60000 (29%)]\tLoss: 0.097111\n",
      "Train Epoch: 1 Batch Index: 280 [17920/60000 (30%)]\tLoss: 0.135109\n",
      "Train Epoch: 1 Batch Index: 290 [18560/60000 (31%)]\tLoss: 0.168808\n"
     ]
    },
    {
     "name": "stdout",
     "output_type": "stream",
     "text": [
      "Train Epoch: 1 Batch Index: 300 [19200/60000 (32%)]\tLoss: 0.103039\n",
      "Train Epoch: 1 Batch Index: 310 [19840/60000 (33%)]\tLoss: 0.217551\n",
      "Train Epoch: 1 Batch Index: 320 [20480/60000 (34%)]\tLoss: 0.076564\n",
      "Train Epoch: 1 Batch Index: 330 [21120/60000 (35%)]\tLoss: 0.082625\n",
      "Train Epoch: 1 Batch Index: 340 [21760/60000 (36%)]\tLoss: 0.153190\n",
      "Train Epoch: 1 Batch Index: 350 [22400/60000 (37%)]\tLoss: 0.083155\n",
      "Train Epoch: 1 Batch Index: 360 [23040/60000 (38%)]\tLoss: 0.100240\n",
      "Train Epoch: 1 Batch Index: 370 [23680/60000 (39%)]\tLoss: 0.029560\n",
      "Train Epoch: 1 Batch Index: 380 [24320/60000 (41%)]\tLoss: 0.058061\n",
      "Train Epoch: 1 Batch Index: 390 [24960/60000 (42%)]\tLoss: 0.038924\n",
      "Train Epoch: 1 Batch Index: 400 [25600/60000 (43%)]\tLoss: 0.051424\n",
      "Train Epoch: 1 Batch Index: 410 [26240/60000 (44%)]\tLoss: 0.069349\n",
      "Train Epoch: 1 Batch Index: 420 [26880/60000 (45%)]\tLoss: 0.064964\n",
      "Train Epoch: 1 Batch Index: 430 [27520/60000 (46%)]\tLoss: 0.090960\n",
      "Train Epoch: 1 Batch Index: 440 [28160/60000 (47%)]\tLoss: 0.109608\n",
      "Train Epoch: 1 Batch Index: 450 [28800/60000 (48%)]\tLoss: 0.100312\n",
      "Train Epoch: 1 Batch Index: 460 [29440/60000 (49%)]\tLoss: 0.051736\n",
      "Train Epoch: 1 Batch Index: 470 [30080/60000 (50%)]\tLoss: 0.087586\n",
      "Train Epoch: 1 Batch Index: 480 [30720/60000 (51%)]\tLoss: 0.132545\n",
      "Train Epoch: 1 Batch Index: 490 [31360/60000 (52%)]\tLoss: 0.035579\n",
      "Train Epoch: 1 Batch Index: 500 [32000/60000 (53%)]\tLoss: 0.093914\n",
      "Train Epoch: 1 Batch Index: 510 [32640/60000 (54%)]\tLoss: 0.068898\n",
      "Train Epoch: 1 Batch Index: 520 [33280/60000 (55%)]\tLoss: 0.135442\n",
      "Train Epoch: 1 Batch Index: 530 [33920/60000 (57%)]\tLoss: 0.159940\n",
      "Train Epoch: 1 Batch Index: 540 [34560/60000 (58%)]\tLoss: 0.053460\n",
      "Train Epoch: 1 Batch Index: 550 [35200/60000 (59%)]\tLoss: 0.099710\n",
      "Train Epoch: 1 Batch Index: 560 [35840/60000 (60%)]\tLoss: 0.137020\n",
      "Train Epoch: 1 Batch Index: 570 [36480/60000 (61%)]\tLoss: 0.065216\n",
      "Train Epoch: 1 Batch Index: 580 [37120/60000 (62%)]\tLoss: 0.196870\n",
      "Train Epoch: 1 Batch Index: 590 [37760/60000 (63%)]\tLoss: 0.038634\n",
      "Train Epoch: 1 Batch Index: 600 [38400/60000 (64%)]\tLoss: 0.391762\n",
      "Train Epoch: 1 Batch Index: 610 [39040/60000 (65%)]\tLoss: 0.105290\n",
      "Train Epoch: 1 Batch Index: 620 [39680/60000 (66%)]\tLoss: 0.018331\n",
      "Train Epoch: 1 Batch Index: 630 [40320/60000 (67%)]\tLoss: 0.050339\n",
      "Train Epoch: 1 Batch Index: 640 [40960/60000 (68%)]\tLoss: 0.049221\n",
      "Train Epoch: 1 Batch Index: 650 [41600/60000 (69%)]\tLoss: 0.114637\n",
      "Train Epoch: 1 Batch Index: 660 [42240/60000 (70%)]\tLoss: 0.074229\n",
      "Train Epoch: 1 Batch Index: 670 [42880/60000 (71%)]\tLoss: 0.155123\n",
      "Train Epoch: 1 Batch Index: 680 [43520/60000 (72%)]\tLoss: 0.026838\n",
      "Train Epoch: 1 Batch Index: 690 [44160/60000 (74%)]\tLoss: 0.072317\n",
      "Train Epoch: 1 Batch Index: 700 [44800/60000 (75%)]\tLoss: 0.026654\n",
      "Train Epoch: 1 Batch Index: 710 [45440/60000 (76%)]\tLoss: 0.019705\n",
      "Train Epoch: 1 Batch Index: 720 [46080/60000 (77%)]\tLoss: 0.063820\n",
      "Train Epoch: 1 Batch Index: 730 [46720/60000 (78%)]\tLoss: 0.033417\n",
      "Train Epoch: 1 Batch Index: 740 [47360/60000 (79%)]\tLoss: 0.053561\n",
      "Train Epoch: 1 Batch Index: 750 [48000/60000 (80%)]\tLoss: 0.081986\n",
      "Train Epoch: 1 Batch Index: 760 [48640/60000 (81%)]\tLoss: 0.050418\n",
      "Train Epoch: 1 Batch Index: 770 [49280/60000 (82%)]\tLoss: 0.130952\n",
      "Train Epoch: 1 Batch Index: 780 [49920/60000 (83%)]\tLoss: 0.039928\n",
      "Train Epoch: 1 Batch Index: 790 [50560/60000 (84%)]\tLoss: 0.023656\n",
      "Train Epoch: 1 Batch Index: 800 [51200/60000 (85%)]\tLoss: 0.121636\n",
      "Train Epoch: 1 Batch Index: 810 [51840/60000 (86%)]\tLoss: 0.042208\n",
      "Train Epoch: 1 Batch Index: 820 [52480/60000 (87%)]\tLoss: 0.115619\n",
      "Train Epoch: 1 Batch Index: 830 [53120/60000 (88%)]\tLoss: 0.049415\n",
      "Train Epoch: 1 Batch Index: 840 [53760/60000 (90%)]\tLoss: 0.032894\n",
      "Train Epoch: 1 Batch Index: 850 [54400/60000 (91%)]\tLoss: 0.035339\n",
      "Train Epoch: 1 Batch Index: 860 [55040/60000 (92%)]\tLoss: 0.093644\n",
      "Train Epoch: 1 Batch Index: 870 [55680/60000 (93%)]\tLoss: 0.125967\n",
      "Train Epoch: 1 Batch Index: 880 [56320/60000 (94%)]\tLoss: 0.040259\n",
      "Train Epoch: 1 Batch Index: 890 [56960/60000 (95%)]\tLoss: 0.168749\n",
      "Train Epoch: 1 Batch Index: 900 [57600/60000 (96%)]\tLoss: 0.086192\n",
      "Train Epoch: 1 Batch Index: 910 [58240/60000 (97%)]\tLoss: 0.034028\n",
      "Train Epoch: 1 Batch Index: 920 [58880/60000 (98%)]\tLoss: 0.053915\n",
      "Train Epoch: 1 Batch Index: 930 [59520/60000 (99%)]\tLoss: 0.095299\n",
      "\n",
      "Test set: Average loss: 0.0012, Accuracy: 9768/10000 (98%)\n",
      "\n"
     ]
    }
   ],
   "source": [
    "for epoch in range(2):\n",
    "    train(epoch)\n",
    "    test()"
   ]
  },
  {
   "cell_type": "code",
   "execution_count": 37,
   "metadata": {},
   "outputs": [
    {
     "data": {
      "text/plain": [
       "[Parameter containing:\n",
       " (0 ,0 ,.,.) = \n",
       "   0.3127  0.1401 -0.2018 -0.0476 -0.2824\n",
       "   0.3564  0.3007 -0.1697 -0.0580 -0.2853\n",
       "   0.3949  0.0490  0.0847 -0.0594 -0.2132\n",
       "   0.1137 -0.0060 -0.1114 -0.0455  0.1683\n",
       "   0.2790 -0.1163  0.1801  0.0126  0.1027\n",
       " \n",
       " (1 ,0 ,.,.) = \n",
       "  -0.1627 -0.1426 -0.0252  0.0871  0.0440\n",
       "  -0.1197  0.1274  0.0922  0.1821  0.1087\n",
       "   0.0767 -0.0091 -0.0525 -0.0706  0.0697\n",
       "  -0.0432 -0.2041 -0.1193 -0.1040 -0.1573\n",
       "  -0.1797 -0.0202  0.0905 -0.1914  0.0503\n",
       " \n",
       " (2 ,0 ,.,.) = \n",
       "   0.0102 -0.0861  0.0283  0.1618  0.0507\n",
       "  -0.1606 -0.1584  0.0504  0.0989 -0.0493\n",
       "   0.0317 -0.0125  0.2579  0.2488  0.3129\n",
       "  -0.0512 -0.0049  0.0505  0.3004  0.0736\n",
       "  -0.1932 -0.1264 -0.2154  0.1392 -0.0242\n",
       " \n",
       " (3 ,0 ,.,.) = \n",
       "   0.1422  0.0804 -0.1532 -0.1251 -0.1750\n",
       "  -0.0378 -0.1734 -0.0813 -0.2210 -0.1890\n",
       "   0.1496 -0.1373  0.0979 -0.2057 -0.1618\n",
       "   0.0071 -0.0243 -0.1714 -0.1496  0.1344\n",
       "   0.1487 -0.1266 -0.1988  0.0667 -0.1823\n",
       " \n",
       " (4 ,0 ,.,.) = \n",
       "  -0.1927 -0.0254  0.1556 -0.1744 -0.0718\n",
       "   0.0481 -0.1241 -0.0088 -0.1719 -0.1553\n",
       "  -0.0478 -0.0733 -0.0595 -0.1236 -0.0693\n",
       "  -0.1674 -0.1949 -0.2219  0.0175 -0.0713\n",
       "   0.2533  0.2624  0.2705 -0.0307  0.0074\n",
       " \n",
       " (5 ,0 ,.,.) = \n",
       "  -0.2216 -0.2296  0.0113 -0.0045  0.1678\n",
       "   0.0570  0.0594 -0.0296 -0.0249  0.0153\n",
       "  -0.0378 -0.2379 -0.1172  0.2475  0.0682\n",
       "   0.1260 -0.1098  0.1960  0.2006 -0.0921\n",
       "  -0.0810 -0.0228  0.0414  0.2783 -0.0970\n",
       " \n",
       " (6 ,0 ,.,.) = \n",
       "   0.3246  0.1669  0.1699  0.3524 -0.0236\n",
       "   0.2592  0.0281  0.1687  0.0028  0.0838\n",
       "  -0.0510 -0.1440 -0.1100 -0.1021 -0.0138\n",
       "  -0.0586 -0.0486 -0.1673  0.1118 -0.1006\n",
       "  -0.1982 -0.1665 -0.1010  0.1131 -0.0009\n",
       " \n",
       " (7 ,0 ,.,.) = \n",
       "  -0.1171 -0.0478 -0.0396  0.1434  0.0522\n",
       "  -0.0337 -0.0745 -0.0275  0.0852 -0.1526\n",
       "   0.1347  0.0138 -0.1682  0.1011  0.0886\n",
       "  -0.2028 -0.1055 -0.0574  0.1488 -0.0600\n",
       "  -0.1215 -0.0952  0.0605 -0.1671  0.0107\n",
       " \n",
       " (8 ,0 ,.,.) = \n",
       "   0.0956  0.3004  0.0113 -0.0358 -0.2352\n",
       "   0.1770  0.3442  0.3318  0.0419 -0.0534\n",
       "  -0.1526  0.0881  0.3049  0.3526 -0.0293\n",
       "  -0.3162 -0.2447 -0.0350  0.2420  0.1887\n",
       "  -0.0480 -0.2658 -0.1535 -0.0106 -0.0680\n",
       " \n",
       " (9 ,0 ,.,.) = \n",
       "   0.0088  0.1497 -0.0135 -0.1513  0.1189\n",
       "   0.2840  0.2978  0.2970  0.1314  0.0269\n",
       "   0.2998  0.4793  0.2515  0.0019  0.0226\n",
       "   0.4203  0.5605  0.4006  0.1585  0.1548\n",
       "   0.3445  0.3381  0.3004  0.0999 -0.0409\n",
       " [torch.FloatTensor of size 10x1x5x5], Parameter containing:\n",
       "  0.0777\n",
       " -0.1533\n",
       "  0.1833\n",
       "  0.1592\n",
       " -0.0437\n",
       "  0.1488\n",
       "  0.1990\n",
       " -0.1552\n",
       " -0.1257\n",
       "  0.2361\n",
       " [torch.FloatTensor of size 10]]"
      ]
     },
     "execution_count": 37,
     "metadata": {},
     "output_type": "execute_result"
    }
   ],
   "source": [
    "list(model.conv1.parameters())"
   ]
  },
  {
   "cell_type": "code",
   "execution_count": 92,
   "metadata": {
    "collapsed": true
   },
   "outputs": [],
   "source": [
    "import matplotlib.pyplot as plt\n",
    "import numpy as np"
   ]
  },
  {
   "cell_type": "code",
   "execution_count": 96,
   "metadata": {
    "scrolled": false
   },
   "outputs": [
    {
     "data": {
      "image/png": "[encoded data removed]",
      "text/plain": [
       "<matplotlib.figure.Figure at 0x7f1fd9126908>"
      ]
     },
     "metadata": {},
     "output_type": "display_data"
    },
    {
     "data": {
      "image/png": "[encoded data removed]",
      "text/plain": [
       "<matplotlib.figure.Figure at 0x7f1fd9921550>"
      ]
     },
     "metadata": {},
     "output_type": "display_data"
    },
    {
     "data": {
      "image/png": "[encoded data removed]",
      "text/plain": [
       "<matplotlib.figure.Figure at 0x7f1fd97302b0>"
      ]
     },
     "metadata": {},
     "output_type": "display_data"
    },
    {
     "data": {
      "image/png": "[encoded data removed]",
      "text/plain": [
       "<matplotlib.figure.Figure at 0x7f1fd9910f28>"
      ]
     },
     "metadata": {},
     "output_type": "display_data"
    },
    {
     "data": {
      "image/png": "[encoded data removed]",
      "text/plain": [
       "<matplotlib.figure.Figure at 0x7f1fd8213fd0>"
      ]
     },
     "metadata": {},
     "output_type": "display_data"
    },
    {
     "data": {
      "image/png": "[encoded data removed]",
      "text/plain": [
       "<matplotlib.figure.Figure at 0x7f1fd968f5f8>"
      ]
     },
     "metadata": {},
     "output_type": "display_data"
    },
    {
     "data": {
      "image/png": "[encoded data removed]",
      "text/plain": [
       "<matplotlib.figure.Figure at 0x7f1fd97a9208>"
      ]
     },
     "metadata": {},
     "output_type": "display_data"
    },
    {
     "data": {
      "image/png": "[encoded data removed]",
      "text/plain": [
       "<matplotlib.figure.Figure at 0x7f1fd868f710>"
      ]
     },
     "metadata": {},
     "output_type": "display_data"
    },
    {
     "data": {
      "image/png": "[encoded data removed]",
      "text/plain": [
       "<matplotlib.figure.Figure at 0x7f1fd81d4198>"
      ]
     },
     "metadata": {},
     "output_type": "display_data"
    },
    {
     "data": {
      "image/png": "[encoded data removed]",
      "text/plain": [
       "<matplotlib.figure.Figure at 0x7f1fd90b4588>"
      ]
     },
     "metadata": {},
     "output_type": "display_data"
    },
    {
     "data": {
      "image/png": "[encoded data removed]",
      "text/plain": [
       "<matplotlib.figure.Figure at 0x7f1fd836d9b0>"
      ]
     },
     "metadata": {},
     "output_type": "display_data"
    },
    {
     "data": {
      "image/png": "[encoded data removed]",
      "text/plain": [
       "<matplotlib.figure.Figure at 0x7f1fd95d3da0>"
      ]
     },
     "metadata": {},
     "output_type": "display_data"
    },
    {
     "data": {
      "image/png": "[encoded data removed]",
      "text/plain": [
       "<matplotlib.figure.Figure at 0x7f1fd8286f98>"
      ]
     },
     "metadata": {},
     "output_type": "display_data"
    },
    {
     "data": {
      "image/png": "[encoded data removed]",
      "text/plain": [
       "<matplotlib.figure.Figure at 0x7f1fd854e518>"
      ]
     },
     "metadata": {},
     "output_type": "display_data"
    },
    {
     "data": {
      "image/png": "[encoded data removed]",
      "text/plain": [
       "<matplotlib.figure.Figure at 0x7f1fd8228c18>"
      ]
     },
     "metadata": {},
     "output_type": "display_data"
    },
    {
     "data": {
      "image/png": "[encoded data removed]",
      "text/plain": [
       "<matplotlib.figure.Figure at 0x7f1fd833e3c8>"
      ]
     },
     "metadata": {},
     "output_type": "display_data"
    },
    {
     "data": {
      "image/png": "[encoded data removed]",
      "text/plain": [
       "<matplotlib.figure.Figure at 0x7f1fd81bdd68>"
      ]
     },
     "metadata": {},
     "output_type": "display_data"
    },
    {
     "data": {
      "image/png": "[encoded data removed]",
      "text/plain": [
       "<matplotlib.figure.Figure at 0x7f1fd828a278>"
      ]
     },
     "metadata": {},
     "output_type": "display_data"
    },
    {
     "data": {
      "image/png": "[encoded data removed]",
      "text/plain": [
       "<matplotlib.figure.Figure at 0x7f1fd8699710>"
      ]
     },
     "metadata": {},
     "output_type": "display_data"
    },
    {
     "data": {
      "image/png": "[encoded data removed]",
      "text/plain": [
       "<matplotlib.figure.Figure at 0x7f1fd828ae10>"
      ]
     },
     "metadata": {},
     "output_type": "display_data"
    }
   ],
   "source": [
    "for i in model.conv2.weight:\n",
    "    to_pic = i.data.numpy()\n",
    "    to_pic = to_pic[0]\n",
    "    plt.imshow(to_pic.tolist(), cmap=plt.get_cmap(\"Greys\"))\n",
    "    plt.show()"
   ]
  },
  {
   "cell_type": "code",
   "execution_count": null,
   "metadata": {
    "collapsed": true
   },
   "outputs": [],
   "source": []
  },
  {
   "cell_type": "code",
   "execution_count": null,
   "metadata": {
    "collapsed": true
   },
   "outputs": [],
   "source": []
  },
  {
   "cell_type": "code",
   "execution_count": null,
   "metadata": {
    "collapsed": true
   },
   "outputs": [],
   "source": []
  },
  {
   "cell_type": "code",
   "execution_count": null,
   "metadata": {
    "collapsed": true
   },
   "outputs": [],
   "source": []
  },
  {
   "cell_type": "code",
   "execution_count": 98,
   "metadata": {},
   "outputs": [
    {
     "name": "stdout",
     "output_type": "stream",
     "text": [
      "Downloading https://www.cs.toronto.edu/~kriz/cifar-10-python.tar.gz to ./Data/CIFAR10/cifar-10-python.tar.gz\n"
     ]
    }
   ],
   "source": [
    "train_dataset = datasets.CIFAR10(root=\"./Data/CIFAR10/\", train=True,\n",
    "#                                transform=transforms.Compose([transforms.ToTensor()]))\n",
    "                               transform=transforms.Compose([transforms.ToTensor(),\n",
    "                                                             transforms.Normalize((0.13066062, ), (0.30810776, ))]), download=True)\n",
    "test_dataset = datasets.CIFAR10(root=\"./Data/CIFAR10/\", train=False,\n",
    "                              transform=transforms.Compose([transforms.ToTensor(),\n",
    "                                                             transforms.Normalize((0.13066062, ), (0.30810776, ))]))\n",
    "train_loader = DataLoader(dataset=train_dataset, shuffle = True, batch_size=64, num_workers=2)\n",
    "test_loader = DataLoader(dataset=test_dataset, shuffle=False, batch_size=64)"
   ]
  },
  {
   "cell_type": "code",
   "execution_count": 110,
   "metadata": {
    "collapsed": true
   },
   "outputs": [],
   "source": [
    "class Net(tc.nn.Module):\n",
    "    def __init__(self):\n",
    "        super(Net, self).__init__()\n",
    "        # You can also do\n",
    "        # super().__init__()\n",
    "        self.conv1 = tc.nn.Conv2d(3, 10, kernel_size=5)\n",
    "        self.conv2 = tc.nn.Conv2d(10, 20, kernel_size=5)\n",
    "        self.mp = tc.nn.MaxPool2d(2)\n",
    "        \n",
    "        self.relu = tc.nn.functional.relu\n",
    "        self.fc = tc.nn.Linear(500,10)\n",
    "        # self.fc = tc.nn.Linear(??,10)\n",
    "        # In order to determine what should go in ??, you can either use\n",
    "        ## 1. Error: If you put ??, you'll run into a RuntimeError:size mismatch, m1:[64x320], m2:[100x10]\n",
    "        ## and \"320\" is the number that should go into ??.\n",
    "        ## 2. x.size: You can print(x.size) and check the size of x.\n",
    "        self.log_softmax = tc.nn.functional.log_softmax\n",
    "        \n",
    "        \n",
    "    def forward(self, x):\n",
    "        in_size = x.size(0)\n",
    "        x = self.conv1(x)\n",
    "        x = self.relu(self.mp(x))\n",
    "        x = self.conv2(x)\n",
    "        x = self.relu(self.mp(x))\n",
    "        x = x.view(in_size, -1)\n",
    "        x = self.fc(x)\n",
    "        return self.log_softmax(x)"
   ]
  },
  {
   "cell_type": "code",
   "execution_count": 111,
   "metadata": {
    "collapsed": true
   },
   "outputs": [],
   "source": [
    "# model = Net()\n",
    "# criterion = tc.nn.BCELoss()\n",
    "# optimizer = tc.optim.Adam(model.parameters(), lr=0.01)\n",
    "\n",
    "model = Net()\n",
    "criterion = tc.nn.CrossEntropyLoss()\n",
    "# CHOICE OF CRITERION IS VERY IMPORTANT!!!\n",
    "# criterion = tc.nn.BCELoss() does not work.\n",
    "optimizer = tc.optim.SGD(model.parameters(), lr=0.01, momentum=0.5)"
   ]
  },
  {
   "cell_type": "code",
   "execution_count": 112,
   "metadata": {
    "collapsed": true
   },
   "outputs": [],
   "source": [
    "def train(epoch):\n",
    "    model.train()\n",
    "    for batch_idx, (data, label) in enumerate(train_loader):\n",
    "        data, label = Variable(data), Variable(label)\n",
    "        pred_label = model(data)\n",
    "        loss = criterion(pred_label, label)\n",
    "        optimizer.zero_grad()\n",
    "        loss.backward()\n",
    "        optimizer.step()\n",
    "        \n",
    "        if batch_idx % 10 == 0:\n",
    "            print('Train Epoch: {} Batch Index: {} [{}/{} ({:.0f}%)]\\tLoss: {:.6f}'\n",
    "                 .format(epoch, batch_idx, batch_idx*len(data), len(train_loader.dataset), 100.*batch_idx/len(train_loader),\n",
    "                 loss.data[0]))"
   ]
  },
  {
   "cell_type": "code",
   "execution_count": 113,
   "metadata": {
    "collapsed": true
   },
   "outputs": [],
   "source": [
    "def test():\n",
    "    model.eval()\n",
    "    test_loss = 0\n",
    "    correct = 0\n",
    "    for data, label in test_loader:\n",
    "        data, label = Variable(data, volatile=True), Variable(label)\n",
    "        pred_label = model(data)\n",
    "        test_loss += criterion(pred_label, label).data[0]\n",
    "#         test_loss += tc.nn.functional.nll_loss(pred_label, label).data[0]\n",
    "                \n",
    "        pred = pred_label.data.max(1, keepdim=True)[1]\n",
    "        correct += pred.eq(label.data.view_as(pred)).cpu().sum()\n",
    "        \n",
    "    test_loss /= len(test_loader.dataset)\n",
    "    print('\\nTest set: Average loss: {:.4f}, Accuracy: {}/{} ({:.0f}%)\\n'.format(\n",
    "    test_loss, correct, len(test_loader.dataset),\n",
    "    100. * correct / len(test_loader.dataset)))"
   ]
  },
  {
   "cell_type": "code",
   "execution_count": 115,
   "metadata": {
    "scrolled": false
   },
   "outputs": [
    {
     "name": "stderr",
     "output_type": "stream",
     "text": [
      "/home/sewook/anaconda3/lib/python3.6/site-packages/ipykernel_launcher.py:28: UserWarning: Implicit dimension choice for log_softmax has been deprecated. Change the call to include dim=X as an argument.\n"
     ]
    },
    {
     "name": "stdout",
     "output_type": "stream",
     "text": [
      "Train Epoch: 0 Batch Index: 0 [0/50000 (0%)]\tLoss: 1.555510\n",
      "Train Epoch: 0 Batch Index: 10 [640/50000 (1%)]\tLoss: 1.521936\n",
      "Train Epoch: 0 Batch Index: 20 [1280/50000 (3%)]\tLoss: 1.262119\n",
      "Train Epoch: 0 Batch Index: 30 [1920/50000 (4%)]\tLoss: 1.349291\n",
      "Train Epoch: 0 Batch Index: 40 [2560/50000 (5%)]\tLoss: 1.463815\n",
      "Train Epoch: 0 Batch Index: 50 [3200/50000 (6%)]\tLoss: 1.520654\n",
      "Train Epoch: 0 Batch Index: 60 [3840/50000 (8%)]\tLoss: 1.330106\n",
      "Train Epoch: 0 Batch Index: 70 [4480/50000 (9%)]\tLoss: 1.697188\n",
      "Train Epoch: 0 Batch Index: 80 [5120/50000 (10%)]\tLoss: 1.469044\n",
      "Train Epoch: 0 Batch Index: 90 [5760/50000 (12%)]\tLoss: 1.212342\n",
      "Train Epoch: 0 Batch Index: 100 [6400/50000 (13%)]\tLoss: 1.542048\n",
      "Train Epoch: 0 Batch Index: 110 [7040/50000 (14%)]\tLoss: 1.486834\n",
      "Train Epoch: 0 Batch Index: 120 [7680/50000 (15%)]\tLoss: 1.277457\n",
      "Train Epoch: 0 Batch Index: 130 [8320/50000 (17%)]\tLoss: 1.529354\n",
      "Train Epoch: 0 Batch Index: 140 [8960/50000 (18%)]\tLoss: 1.722840\n",
      "Train Epoch: 0 Batch Index: 150 [9600/50000 (19%)]\tLoss: 1.263542\n",
      "Train Epoch: 0 Batch Index: 160 [10240/50000 (20%)]\tLoss: 1.511394\n",
      "Train Epoch: 0 Batch Index: 170 [10880/50000 (22%)]\tLoss: 1.465440\n",
      "Train Epoch: 0 Batch Index: 180 [11520/50000 (23%)]\tLoss: 1.353859\n",
      "Train Epoch: 0 Batch Index: 190 [12160/50000 (24%)]\tLoss: 1.528630\n",
      "Train Epoch: 0 Batch Index: 200 [12800/50000 (26%)]\tLoss: 1.301450\n",
      "Train Epoch: 0 Batch Index: 210 [13440/50000 (27%)]\tLoss: 1.354220\n",
      "Train Epoch: 0 Batch Index: 220 [14080/50000 (28%)]\tLoss: 1.417536\n",
      "Train Epoch: 0 Batch Index: 230 [14720/50000 (29%)]\tLoss: 1.538789\n",
      "Train Epoch: 0 Batch Index: 240 [15360/50000 (31%)]\tLoss: 1.507272\n",
      "Train Epoch: 0 Batch Index: 250 [16000/50000 (32%)]\tLoss: 1.530562\n",
      "Train Epoch: 0 Batch Index: 260 [16640/50000 (33%)]\tLoss: 1.232493\n",
      "Train Epoch: 0 Batch Index: 270 [17280/50000 (35%)]\tLoss: 1.191875\n",
      "Train Epoch: 0 Batch Index: 280 [17920/50000 (36%)]\tLoss: 1.473985\n",
      "Train Epoch: 0 Batch Index: 290 [18560/50000 (37%)]\tLoss: 1.339468\n",
      "Train Epoch: 0 Batch Index: 300 [19200/50000 (38%)]\tLoss: 1.384820\n",
      "Train Epoch: 0 Batch Index: 310 [19840/50000 (40%)]\tLoss: 1.368650\n",
      "Train Epoch: 0 Batch Index: 320 [20480/50000 (41%)]\tLoss: 1.365570\n",
      "Train Epoch: 0 Batch Index: 330 [21120/50000 (42%)]\tLoss: 1.496215\n",
      "Train Epoch: 0 Batch Index: 340 [21760/50000 (43%)]\tLoss: 1.565222\n",
      "Train Epoch: 0 Batch Index: 350 [22400/50000 (45%)]\tLoss: 1.394103\n",
      "Train Epoch: 0 Batch Index: 360 [23040/50000 (46%)]\tLoss: 1.216815\n",
      "Train Epoch: 0 Batch Index: 370 [23680/50000 (47%)]\tLoss: 1.335851\n",
      "Train Epoch: 0 Batch Index: 380 [24320/50000 (49%)]\tLoss: 1.271964\n",
      "Train Epoch: 0 Batch Index: 390 [24960/50000 (50%)]\tLoss: 1.429775\n",
      "Train Epoch: 0 Batch Index: 400 [25600/50000 (51%)]\tLoss: 1.457843\n",
      "Train Epoch: 0 Batch Index: 410 [26240/50000 (52%)]\tLoss: 1.465860\n",
      "Train Epoch: 0 Batch Index: 420 [26880/50000 (54%)]\tLoss: 1.556589\n",
      "Train Epoch: 0 Batch Index: 430 [27520/50000 (55%)]\tLoss: 1.267538\n",
      "Train Epoch: 0 Batch Index: 440 [28160/50000 (56%)]\tLoss: 1.197815\n",
      "Train Epoch: 0 Batch Index: 450 [28800/50000 (58%)]\tLoss: 1.469334\n",
      "Train Epoch: 0 Batch Index: 460 [29440/50000 (59%)]\tLoss: 1.423422\n",
      "Train Epoch: 0 Batch Index: 470 [30080/50000 (60%)]\tLoss: 1.560316\n",
      "Train Epoch: 0 Batch Index: 480 [30720/50000 (61%)]\tLoss: 1.499143\n",
      "Train Epoch: 0 Batch Index: 490 [31360/50000 (63%)]\tLoss: 1.492482\n",
      "Train Epoch: 0 Batch Index: 500 [32000/50000 (64%)]\tLoss: 1.403412\n",
      "Train Epoch: 0 Batch Index: 510 [32640/50000 (65%)]\tLoss: 1.333097\n",
      "Train Epoch: 0 Batch Index: 520 [33280/50000 (66%)]\tLoss: 1.311870\n",
      "Train Epoch: 0 Batch Index: 530 [33920/50000 (68%)]\tLoss: 1.305571\n",
      "Train Epoch: 0 Batch Index: 540 [34560/50000 (69%)]\tLoss: 1.390885\n",
      "Train Epoch: 0 Batch Index: 550 [35200/50000 (70%)]\tLoss: 1.407372\n",
      "Train Epoch: 0 Batch Index: 560 [35840/50000 (72%)]\tLoss: 1.488118\n",
      "Train Epoch: 0 Batch Index: 570 [36480/50000 (73%)]\tLoss: 1.333417\n",
      "Train Epoch: 0 Batch Index: 580 [37120/50000 (74%)]\tLoss: 1.328990\n",
      "Train Epoch: 0 Batch Index: 590 [37760/50000 (75%)]\tLoss: 1.237378\n",
      "Train Epoch: 0 Batch Index: 600 [38400/50000 (77%)]\tLoss: 1.341877\n",
      "Train Epoch: 0 Batch Index: 610 [39040/50000 (78%)]\tLoss: 1.416823\n",
      "Train Epoch: 0 Batch Index: 620 [39680/50000 (79%)]\tLoss: 1.375417\n",
      "Train Epoch: 0 Batch Index: 630 [40320/50000 (81%)]\tLoss: 1.431923\n",
      "Train Epoch: 0 Batch Index: 640 [40960/50000 (82%)]\tLoss: 1.339574\n",
      "Train Epoch: 0 Batch Index: 650 [41600/50000 (83%)]\tLoss: 1.620662\n",
      "Train Epoch: 0 Batch Index: 660 [42240/50000 (84%)]\tLoss: 1.500669\n",
      "Train Epoch: 0 Batch Index: 670 [42880/50000 (86%)]\tLoss: 1.473807\n",
      "Train Epoch: 0 Batch Index: 680 [43520/50000 (87%)]\tLoss: 1.283402\n",
      "Train Epoch: 0 Batch Index: 690 [44160/50000 (88%)]\tLoss: 1.368381\n",
      "Train Epoch: 0 Batch Index: 700 [44800/50000 (90%)]\tLoss: 1.494779\n",
      "Train Epoch: 0 Batch Index: 710 [45440/50000 (91%)]\tLoss: 1.219883\n",
      "Train Epoch: 0 Batch Index: 720 [46080/50000 (92%)]\tLoss: 1.541446\n",
      "Train Epoch: 0 Batch Index: 730 [46720/50000 (93%)]\tLoss: 1.412117\n",
      "Train Epoch: 0 Batch Index: 740 [47360/50000 (95%)]\tLoss: 1.432900\n",
      "Train Epoch: 0 Batch Index: 750 [48000/50000 (96%)]\tLoss: 1.488515\n",
      "Train Epoch: 0 Batch Index: 760 [48640/50000 (97%)]\tLoss: 1.533389\n",
      "Train Epoch: 0 Batch Index: 770 [49280/50000 (98%)]\tLoss: 1.428445\n",
      "Train Epoch: 0 Batch Index: 780 [49920/50000 (100%)]\tLoss: 1.435475\n",
      "\n",
      "Test set: Average loss: 0.0239, Accuracy: 4526/10000 (45%)\n",
      "\n",
      "Train Epoch: 1 Batch Index: 0 [0/50000 (0%)]\tLoss: 1.695574\n",
      "Train Epoch: 1 Batch Index: 10 [640/50000 (1%)]\tLoss: 1.696697\n",
      "Train Epoch: 1 Batch Index: 20 [1280/50000 (3%)]\tLoss: 1.424504\n",
      "Train Epoch: 1 Batch Index: 30 [1920/50000 (4%)]\tLoss: 1.350493\n",
      "Train Epoch: 1 Batch Index: 40 [2560/50000 (5%)]\tLoss: 1.391122\n",
      "Train Epoch: 1 Batch Index: 50 [3200/50000 (6%)]\tLoss: 1.307976\n",
      "Train Epoch: 1 Batch Index: 60 [3840/50000 (8%)]\tLoss: 1.299377\n",
      "Train Epoch: 1 Batch Index: 70 [4480/50000 (9%)]\tLoss: 1.289061\n",
      "Train Epoch: 1 Batch Index: 80 [5120/50000 (10%)]\tLoss: 1.175806\n",
      "Train Epoch: 1 Batch Index: 90 [5760/50000 (12%)]\tLoss: 1.217279\n",
      "Train Epoch: 1 Batch Index: 100 [6400/50000 (13%)]\tLoss: 1.433208\n",
      "Train Epoch: 1 Batch Index: 110 [7040/50000 (14%)]\tLoss: 1.575746\n",
      "Train Epoch: 1 Batch Index: 120 [7680/50000 (15%)]\tLoss: 1.303413\n",
      "Train Epoch: 1 Batch Index: 130 [8320/50000 (17%)]\tLoss: 1.558424\n",
      "Train Epoch: 1 Batch Index: 140 [8960/50000 (18%)]\tLoss: 1.629635\n",
      "Train Epoch: 1 Batch Index: 150 [9600/50000 (19%)]\tLoss: 1.521244\n",
      "Train Epoch: 1 Batch Index: 160 [10240/50000 (20%)]\tLoss: 1.289374\n",
      "Train Epoch: 1 Batch Index: 170 [10880/50000 (22%)]\tLoss: 1.261836\n",
      "Train Epoch: 1 Batch Index: 180 [11520/50000 (23%)]\tLoss: 1.254693\n",
      "Train Epoch: 1 Batch Index: 190 [12160/50000 (24%)]\tLoss: 1.652298\n",
      "Train Epoch: 1 Batch Index: 200 [12800/50000 (26%)]\tLoss: 1.167009\n",
      "Train Epoch: 1 Batch Index: 210 [13440/50000 (27%)]\tLoss: 1.241759\n",
      "Train Epoch: 1 Batch Index: 220 [14080/50000 (28%)]\tLoss: 1.225322\n",
      "Train Epoch: 1 Batch Index: 230 [14720/50000 (29%)]\tLoss: 1.261880\n",
      "Train Epoch: 1 Batch Index: 240 [15360/50000 (31%)]\tLoss: 1.177929\n",
      "Train Epoch: 1 Batch Index: 250 [16000/50000 (32%)]\tLoss: 1.390025\n",
      "Train Epoch: 1 Batch Index: 260 [16640/50000 (33%)]\tLoss: 1.210346\n",
      "Train Epoch: 1 Batch Index: 270 [17280/50000 (35%)]\tLoss: 1.286358\n",
      "Train Epoch: 1 Batch Index: 280 [17920/50000 (36%)]\tLoss: 1.454579\n",
      "Train Epoch: 1 Batch Index: 290 [18560/50000 (37%)]\tLoss: 1.286901\n",
      "Train Epoch: 1 Batch Index: 300 [19200/50000 (38%)]\tLoss: 1.678312\n",
      "Train Epoch: 1 Batch Index: 310 [19840/50000 (40%)]\tLoss: 1.355576\n",
      "Train Epoch: 1 Batch Index: 320 [20480/50000 (41%)]\tLoss: 1.306123\n",
      "Train Epoch: 1 Batch Index: 330 [21120/50000 (42%)]\tLoss: 1.408203\n",
      "Train Epoch: 1 Batch Index: 340 [21760/50000 (43%)]\tLoss: 1.292219\n",
      "Train Epoch: 1 Batch Index: 350 [22400/50000 (45%)]\tLoss: 1.199640\n",
      "Train Epoch: 1 Batch Index: 360 [23040/50000 (46%)]\tLoss: 1.256047\n",
      "Train Epoch: 1 Batch Index: 370 [23680/50000 (47%)]\tLoss: 1.400834\n",
      "Train Epoch: 1 Batch Index: 380 [24320/50000 (49%)]\tLoss: 1.234445\n",
      "Train Epoch: 1 Batch Index: 390 [24960/50000 (50%)]\tLoss: 1.244461\n",
      "Train Epoch: 1 Batch Index: 400 [25600/50000 (51%)]\tLoss: 1.325735\n",
      "Train Epoch: 1 Batch Index: 410 [26240/50000 (52%)]\tLoss: 1.265206\n",
      "Train Epoch: 1 Batch Index: 420 [26880/50000 (54%)]\tLoss: 1.297404\n",
      "Train Epoch: 1 Batch Index: 430 [27520/50000 (55%)]\tLoss: 1.142547\n"
     ]
    },
    {
     "name": "stdout",
     "output_type": "stream",
     "text": [
      "Train Epoch: 1 Batch Index: 440 [28160/50000 (56%)]\tLoss: 1.652262\n",
      "Train Epoch: 1 Batch Index: 450 [28800/50000 (58%)]\tLoss: 1.360135\n",
      "Train Epoch: 1 Batch Index: 460 [29440/50000 (59%)]\tLoss: 1.353864\n",
      "Train Epoch: 1 Batch Index: 470 [30080/50000 (60%)]\tLoss: 1.225593\n",
      "Train Epoch: 1 Batch Index: 480 [30720/50000 (61%)]\tLoss: 1.336108\n",
      "Train Epoch: 1 Batch Index: 490 [31360/50000 (63%)]\tLoss: 1.181009\n",
      "Train Epoch: 1 Batch Index: 500 [32000/50000 (64%)]\tLoss: 1.352192\n",
      "Train Epoch: 1 Batch Index: 510 [32640/50000 (65%)]\tLoss: 1.213994\n",
      "Train Epoch: 1 Batch Index: 520 [33280/50000 (66%)]\tLoss: 1.101439\n",
      "Train Epoch: 1 Batch Index: 530 [33920/50000 (68%)]\tLoss: 1.512585\n",
      "Train Epoch: 1 Batch Index: 540 [34560/50000 (69%)]\tLoss: 1.238762\n",
      "Train Epoch: 1 Batch Index: 550 [35200/50000 (70%)]\tLoss: 1.417632\n",
      "Train Epoch: 1 Batch Index: 560 [35840/50000 (72%)]\tLoss: 1.207320\n",
      "Train Epoch: 1 Batch Index: 570 [36480/50000 (73%)]\tLoss: 1.158466\n",
      "Train Epoch: 1 Batch Index: 580 [37120/50000 (74%)]\tLoss: 1.178977\n",
      "Train Epoch: 1 Batch Index: 590 [37760/50000 (75%)]\tLoss: 1.307424\n",
      "Train Epoch: 1 Batch Index: 600 [38400/50000 (77%)]\tLoss: 1.113390\n",
      "Train Epoch: 1 Batch Index: 610 [39040/50000 (78%)]\tLoss: 1.078027\n",
      "Train Epoch: 1 Batch Index: 620 [39680/50000 (79%)]\tLoss: 1.221397\n",
      "Train Epoch: 1 Batch Index: 630 [40320/50000 (81%)]\tLoss: 1.399170\n",
      "Train Epoch: 1 Batch Index: 640 [40960/50000 (82%)]\tLoss: 1.418692\n",
      "Train Epoch: 1 Batch Index: 650 [41600/50000 (83%)]\tLoss: 1.289860\n",
      "Train Epoch: 1 Batch Index: 660 [42240/50000 (84%)]\tLoss: 1.306968\n",
      "Train Epoch: 1 Batch Index: 670 [42880/50000 (86%)]\tLoss: 1.509783\n",
      "Train Epoch: 1 Batch Index: 680 [43520/50000 (87%)]\tLoss: 1.150975\n",
      "Train Epoch: 1 Batch Index: 690 [44160/50000 (88%)]\tLoss: 1.306192\n",
      "Train Epoch: 1 Batch Index: 700 [44800/50000 (90%)]\tLoss: 1.489820\n",
      "Train Epoch: 1 Batch Index: 710 [45440/50000 (91%)]\tLoss: 1.212244\n",
      "Train Epoch: 1 Batch Index: 720 [46080/50000 (92%)]\tLoss: 1.442976\n",
      "Train Epoch: 1 Batch Index: 730 [46720/50000 (93%)]\tLoss: 1.335411\n",
      "Train Epoch: 1 Batch Index: 740 [47360/50000 (95%)]\tLoss: 1.088931\n",
      "Train Epoch: 1 Batch Index: 750 [48000/50000 (96%)]\tLoss: 1.348523\n",
      "Train Epoch: 1 Batch Index: 760 [48640/50000 (97%)]\tLoss: 1.084711\n",
      "Train Epoch: 1 Batch Index: 770 [49280/50000 (98%)]\tLoss: 1.370331\n",
      "Train Epoch: 1 Batch Index: 780 [49920/50000 (100%)]\tLoss: 1.555543\n",
      "\n",
      "Test set: Average loss: 0.0205, Accuracy: 5352/10000 (54%)\n",
      "\n",
      "Train Epoch: 2 Batch Index: 0 [0/50000 (0%)]\tLoss: 1.114611\n",
      "Train Epoch: 2 Batch Index: 10 [640/50000 (1%)]\tLoss: 1.055135\n",
      "Train Epoch: 2 Batch Index: 20 [1280/50000 (3%)]\tLoss: 1.133692\n",
      "Train Epoch: 2 Batch Index: 30 [1920/50000 (4%)]\tLoss: 1.254082\n",
      "Train Epoch: 2 Batch Index: 40 [2560/50000 (5%)]\tLoss: 1.239098\n",
      "Train Epoch: 2 Batch Index: 50 [3200/50000 (6%)]\tLoss: 1.498809\n",
      "Train Epoch: 2 Batch Index: 60 [3840/50000 (8%)]\tLoss: 1.183225\n",
      "Train Epoch: 2 Batch Index: 70 [4480/50000 (9%)]\tLoss: 1.123283\n",
      "Train Epoch: 2 Batch Index: 80 [5120/50000 (10%)]\tLoss: 1.140570\n",
      "Train Epoch: 2 Batch Index: 90 [5760/50000 (12%)]\tLoss: 1.396345\n",
      "Train Epoch: 2 Batch Index: 100 [6400/50000 (13%)]\tLoss: 1.332340\n",
      "Train Epoch: 2 Batch Index: 110 [7040/50000 (14%)]\tLoss: 1.264751\n",
      "Train Epoch: 2 Batch Index: 120 [7680/50000 (15%)]\tLoss: 1.297213\n",
      "Train Epoch: 2 Batch Index: 130 [8320/50000 (17%)]\tLoss: 1.276328\n",
      "Train Epoch: 2 Batch Index: 140 [8960/50000 (18%)]\tLoss: 1.346897\n",
      "Train Epoch: 2 Batch Index: 150 [9600/50000 (19%)]\tLoss: 1.299914\n",
      "Train Epoch: 2 Batch Index: 160 [10240/50000 (20%)]\tLoss: 1.176395\n",
      "Train Epoch: 2 Batch Index: 170 [10880/50000 (22%)]\tLoss: 1.107453\n",
      "Train Epoch: 2 Batch Index: 180 [11520/50000 (23%)]\tLoss: 1.293417\n",
      "Train Epoch: 2 Batch Index: 190 [12160/50000 (24%)]\tLoss: 1.290615\n",
      "Train Epoch: 2 Batch Index: 200 [12800/50000 (26%)]\tLoss: 1.255658\n",
      "Train Epoch: 2 Batch Index: 210 [13440/50000 (27%)]\tLoss: 1.287899\n",
      "Train Epoch: 2 Batch Index: 220 [14080/50000 (28%)]\tLoss: 1.326881\n",
      "Train Epoch: 2 Batch Index: 230 [14720/50000 (29%)]\tLoss: 1.392759\n",
      "Train Epoch: 2 Batch Index: 240 [15360/50000 (31%)]\tLoss: 1.382711\n",
      "Train Epoch: 2 Batch Index: 250 [16000/50000 (32%)]\tLoss: 1.136855\n",
      "Train Epoch: 2 Batch Index: 260 [16640/50000 (33%)]\tLoss: 1.193272\n",
      "Train Epoch: 2 Batch Index: 270 [17280/50000 (35%)]\tLoss: 1.135698\n",
      "Train Epoch: 2 Batch Index: 280 [17920/50000 (36%)]\tLoss: 1.554603\n",
      "Train Epoch: 2 Batch Index: 290 [18560/50000 (37%)]\tLoss: 1.061796\n",
      "Train Epoch: 2 Batch Index: 300 [19200/50000 (38%)]\tLoss: 1.216936\n",
      "Train Epoch: 2 Batch Index: 310 [19840/50000 (40%)]\tLoss: 1.276165\n",
      "Train Epoch: 2 Batch Index: 320 [20480/50000 (41%)]\tLoss: 1.054247\n",
      "Train Epoch: 2 Batch Index: 330 [21120/50000 (42%)]\tLoss: 1.231465\n",
      "Train Epoch: 2 Batch Index: 340 [21760/50000 (43%)]\tLoss: 1.177184\n",
      "Train Epoch: 2 Batch Index: 350 [22400/50000 (45%)]\tLoss: 1.103806\n",
      "Train Epoch: 2 Batch Index: 360 [23040/50000 (46%)]\tLoss: 1.000636\n",
      "Train Epoch: 2 Batch Index: 370 [23680/50000 (47%)]\tLoss: 1.168890\n",
      "Train Epoch: 2 Batch Index: 380 [24320/50000 (49%)]\tLoss: 1.363297\n",
      "Train Epoch: 2 Batch Index: 390 [24960/50000 (50%)]\tLoss: 1.478079\n",
      "Train Epoch: 2 Batch Index: 400 [25600/50000 (51%)]\tLoss: 1.361286\n",
      "Train Epoch: 2 Batch Index: 410 [26240/50000 (52%)]\tLoss: 1.159614\n",
      "Train Epoch: 2 Batch Index: 420 [26880/50000 (54%)]\tLoss: 1.084026\n",
      "Train Epoch: 2 Batch Index: 430 [27520/50000 (55%)]\tLoss: 1.352554\n",
      "Train Epoch: 2 Batch Index: 440 [28160/50000 (56%)]\tLoss: 1.306746\n",
      "Train Epoch: 2 Batch Index: 450 [28800/50000 (58%)]\tLoss: 1.578663\n",
      "Train Epoch: 2 Batch Index: 460 [29440/50000 (59%)]\tLoss: 1.052158\n",
      "Train Epoch: 2 Batch Index: 470 [30080/50000 (60%)]\tLoss: 1.267563\n",
      "Train Epoch: 2 Batch Index: 480 [30720/50000 (61%)]\tLoss: 1.165028\n",
      "Train Epoch: 2 Batch Index: 490 [31360/50000 (63%)]\tLoss: 1.631572\n",
      "Train Epoch: 2 Batch Index: 500 [32000/50000 (64%)]\tLoss: 1.255325\n",
      "Train Epoch: 2 Batch Index: 510 [32640/50000 (65%)]\tLoss: 1.225547\n",
      "Train Epoch: 2 Batch Index: 520 [33280/50000 (66%)]\tLoss: 1.045631\n",
      "Train Epoch: 2 Batch Index: 530 [33920/50000 (68%)]\tLoss: 1.126159\n",
      "Train Epoch: 2 Batch Index: 540 [34560/50000 (69%)]\tLoss: 1.227034\n",
      "Train Epoch: 2 Batch Index: 550 [35200/50000 (70%)]\tLoss: 1.003298\n",
      "Train Epoch: 2 Batch Index: 560 [35840/50000 (72%)]\tLoss: 1.309004\n",
      "Train Epoch: 2 Batch Index: 570 [36480/50000 (73%)]\tLoss: 0.904054\n",
      "Train Epoch: 2 Batch Index: 580 [37120/50000 (74%)]\tLoss: 0.929943\n",
      "Train Epoch: 2 Batch Index: 590 [37760/50000 (75%)]\tLoss: 1.355659\n",
      "Train Epoch: 2 Batch Index: 600 [38400/50000 (77%)]\tLoss: 1.299641\n",
      "Train Epoch: 2 Batch Index: 610 [39040/50000 (78%)]\tLoss: 1.249414\n",
      "Train Epoch: 2 Batch Index: 620 [39680/50000 (79%)]\tLoss: 1.386720\n",
      "Train Epoch: 2 Batch Index: 630 [40320/50000 (81%)]\tLoss: 1.220217\n",
      "Train Epoch: 2 Batch Index: 640 [40960/50000 (82%)]\tLoss: 1.115332\n",
      "Train Epoch: 2 Batch Index: 650 [41600/50000 (83%)]\tLoss: 1.261381\n",
      "Train Epoch: 2 Batch Index: 660 [42240/50000 (84%)]\tLoss: 1.341765\n",
      "Train Epoch: 2 Batch Index: 670 [42880/50000 (86%)]\tLoss: 1.497268\n",
      "Train Epoch: 2 Batch Index: 680 [43520/50000 (87%)]\tLoss: 1.153300\n",
      "Train Epoch: 2 Batch Index: 690 [44160/50000 (88%)]\tLoss: 0.944030\n",
      "Train Epoch: 2 Batch Index: 700 [44800/50000 (90%)]\tLoss: 1.589833\n",
      "Train Epoch: 2 Batch Index: 710 [45440/50000 (91%)]\tLoss: 1.348628\n",
      "Train Epoch: 2 Batch Index: 720 [46080/50000 (92%)]\tLoss: 1.163209\n",
      "Train Epoch: 2 Batch Index: 730 [46720/50000 (93%)]\tLoss: 1.401341\n",
      "Train Epoch: 2 Batch Index: 740 [47360/50000 (95%)]\tLoss: 1.224192\n",
      "Train Epoch: 2 Batch Index: 750 [48000/50000 (96%)]\tLoss: 1.201942\n",
      "Train Epoch: 2 Batch Index: 760 [48640/50000 (97%)]\tLoss: 1.204137\n",
      "Train Epoch: 2 Batch Index: 770 [49280/50000 (98%)]\tLoss: 1.366479\n",
      "Train Epoch: 2 Batch Index: 780 [49920/50000 (100%)]\tLoss: 1.395000\n",
      "\n",
      "Test set: Average loss: 0.0209, Accuracy: 5261/10000 (53%)\n",
      "\n",
      "Train Epoch: 3 Batch Index: 0 [0/50000 (0%)]\tLoss: 1.280686\n",
      "Train Epoch: 3 Batch Index: 10 [640/50000 (1%)]\tLoss: 0.980666\n",
      "Train Epoch: 3 Batch Index: 20 [1280/50000 (3%)]\tLoss: 1.030903\n",
      "Train Epoch: 3 Batch Index: 30 [1920/50000 (4%)]\tLoss: 1.376469\n",
      "Train Epoch: 3 Batch Index: 40 [2560/50000 (5%)]\tLoss: 1.185155\n",
      "Train Epoch: 3 Batch Index: 50 [3200/50000 (6%)]\tLoss: 1.165574\n",
      "Train Epoch: 3 Batch Index: 60 [3840/50000 (8%)]\tLoss: 1.292976\n",
      "Train Epoch: 3 Batch Index: 70 [4480/50000 (9%)]\tLoss: 1.230577\n"
     ]
    },
    {
     "name": "stdout",
     "output_type": "stream",
     "text": [
      "Train Epoch: 3 Batch Index: 80 [5120/50000 (10%)]\tLoss: 1.270485\n",
      "Train Epoch: 3 Batch Index: 90 [5760/50000 (12%)]\tLoss: 1.249776\n",
      "Train Epoch: 3 Batch Index: 100 [6400/50000 (13%)]\tLoss: 1.303992\n",
      "Train Epoch: 3 Batch Index: 110 [7040/50000 (14%)]\tLoss: 1.336601\n",
      "Train Epoch: 3 Batch Index: 120 [7680/50000 (15%)]\tLoss: 1.240066\n",
      "Train Epoch: 3 Batch Index: 130 [8320/50000 (17%)]\tLoss: 1.361781\n",
      "Train Epoch: 3 Batch Index: 140 [8960/50000 (18%)]\tLoss: 1.362075\n",
      "Train Epoch: 3 Batch Index: 150 [9600/50000 (19%)]\tLoss: 1.155172\n",
      "Train Epoch: 3 Batch Index: 160 [10240/50000 (20%)]\tLoss: 1.102123\n",
      "Train Epoch: 3 Batch Index: 170 [10880/50000 (22%)]\tLoss: 1.308635\n",
      "Train Epoch: 3 Batch Index: 180 [11520/50000 (23%)]\tLoss: 1.051864\n",
      "Train Epoch: 3 Batch Index: 190 [12160/50000 (24%)]\tLoss: 1.171741\n",
      "Train Epoch: 3 Batch Index: 200 [12800/50000 (26%)]\tLoss: 1.097371\n",
      "Train Epoch: 3 Batch Index: 210 [13440/50000 (27%)]\tLoss: 1.419156\n",
      "Train Epoch: 3 Batch Index: 220 [14080/50000 (28%)]\tLoss: 1.530375\n",
      "Train Epoch: 3 Batch Index: 230 [14720/50000 (29%)]\tLoss: 0.935886\n",
      "Train Epoch: 3 Batch Index: 240 [15360/50000 (31%)]\tLoss: 1.133184\n",
      "Train Epoch: 3 Batch Index: 250 [16000/50000 (32%)]\tLoss: 1.057768\n",
      "Train Epoch: 3 Batch Index: 260 [16640/50000 (33%)]\tLoss: 1.420358\n",
      "Train Epoch: 3 Batch Index: 270 [17280/50000 (35%)]\tLoss: 1.225045\n",
      "Train Epoch: 3 Batch Index: 280 [17920/50000 (36%)]\tLoss: 1.217508\n",
      "Train Epoch: 3 Batch Index: 290 [18560/50000 (37%)]\tLoss: 1.308922\n",
      "Train Epoch: 3 Batch Index: 300 [19200/50000 (38%)]\tLoss: 1.161512\n",
      "Train Epoch: 3 Batch Index: 310 [19840/50000 (40%)]\tLoss: 1.186577\n",
      "Train Epoch: 3 Batch Index: 320 [20480/50000 (41%)]\tLoss: 1.290233\n",
      "Train Epoch: 3 Batch Index: 330 [21120/50000 (42%)]\tLoss: 1.203200\n",
      "Train Epoch: 3 Batch Index: 340 [21760/50000 (43%)]\tLoss: 1.400958\n",
      "Train Epoch: 3 Batch Index: 350 [22400/50000 (45%)]\tLoss: 1.316958\n",
      "Train Epoch: 3 Batch Index: 360 [23040/50000 (46%)]\tLoss: 1.098209\n",
      "Train Epoch: 3 Batch Index: 370 [23680/50000 (47%)]\tLoss: 1.008884\n",
      "Train Epoch: 3 Batch Index: 380 [24320/50000 (49%)]\tLoss: 1.136916\n",
      "Train Epoch: 3 Batch Index: 390 [24960/50000 (50%)]\tLoss: 1.311095\n",
      "Train Epoch: 3 Batch Index: 400 [25600/50000 (51%)]\tLoss: 1.170267\n",
      "Train Epoch: 3 Batch Index: 410 [26240/50000 (52%)]\tLoss: 0.990180\n",
      "Train Epoch: 3 Batch Index: 420 [26880/50000 (54%)]\tLoss: 1.449883\n",
      "Train Epoch: 3 Batch Index: 430 [27520/50000 (55%)]\tLoss: 1.100307\n",
      "Train Epoch: 3 Batch Index: 440 [28160/50000 (56%)]\tLoss: 1.184240\n",
      "Train Epoch: 3 Batch Index: 450 [28800/50000 (58%)]\tLoss: 1.256762\n",
      "Train Epoch: 3 Batch Index: 460 [29440/50000 (59%)]\tLoss: 1.316841\n",
      "Train Epoch: 3 Batch Index: 470 [30080/50000 (60%)]\tLoss: 1.039379\n",
      "Train Epoch: 3 Batch Index: 480 [30720/50000 (61%)]\tLoss: 1.230454\n",
      "Train Epoch: 3 Batch Index: 490 [31360/50000 (63%)]\tLoss: 1.272100\n",
      "Train Epoch: 3 Batch Index: 500 [32000/50000 (64%)]\tLoss: 1.217029\n",
      "Train Epoch: 3 Batch Index: 510 [32640/50000 (65%)]\tLoss: 1.260984\n",
      "Train Epoch: 3 Batch Index: 520 [33280/50000 (66%)]\tLoss: 1.411626\n",
      "Train Epoch: 3 Batch Index: 530 [33920/50000 (68%)]\tLoss: 1.367137\n",
      "Train Epoch: 3 Batch Index: 540 [34560/50000 (69%)]\tLoss: 0.994459\n",
      "Train Epoch: 3 Batch Index: 550 [35200/50000 (70%)]\tLoss: 1.101262\n",
      "Train Epoch: 3 Batch Index: 560 [35840/50000 (72%)]\tLoss: 1.343910\n",
      "Train Epoch: 3 Batch Index: 570 [36480/50000 (73%)]\tLoss: 1.145181\n",
      "Train Epoch: 3 Batch Index: 580 [37120/50000 (74%)]\tLoss: 1.327576\n",
      "Train Epoch: 3 Batch Index: 590 [37760/50000 (75%)]\tLoss: 1.418387\n",
      "Train Epoch: 3 Batch Index: 600 [38400/50000 (77%)]\tLoss: 1.114244\n",
      "Train Epoch: 3 Batch Index: 610 [39040/50000 (78%)]\tLoss: 1.120056\n",
      "Train Epoch: 3 Batch Index: 620 [39680/50000 (79%)]\tLoss: 1.191931\n",
      "Train Epoch: 3 Batch Index: 630 [40320/50000 (81%)]\tLoss: 1.222560\n",
      "Train Epoch: 3 Batch Index: 640 [40960/50000 (82%)]\tLoss: 1.250521\n",
      "Train Epoch: 3 Batch Index: 650 [41600/50000 (83%)]\tLoss: 1.857934\n",
      "Train Epoch: 3 Batch Index: 660 [42240/50000 (84%)]\tLoss: 1.013040\n",
      "Train Epoch: 3 Batch Index: 670 [42880/50000 (86%)]\tLoss: 1.011315\n",
      "Train Epoch: 3 Batch Index: 680 [43520/50000 (87%)]\tLoss: 1.010961\n",
      "Train Epoch: 3 Batch Index: 690 [44160/50000 (88%)]\tLoss: 1.154092\n",
      "Train Epoch: 3 Batch Index: 700 [44800/50000 (90%)]\tLoss: 1.199940\n",
      "Train Epoch: 3 Batch Index: 710 [45440/50000 (91%)]\tLoss: 1.135564\n",
      "Train Epoch: 3 Batch Index: 720 [46080/50000 (92%)]\tLoss: 1.154799\n",
      "Train Epoch: 3 Batch Index: 730 [46720/50000 (93%)]\tLoss: 1.105873\n",
      "Train Epoch: 3 Batch Index: 740 [47360/50000 (95%)]\tLoss: 1.225233\n",
      "Train Epoch: 3 Batch Index: 750 [48000/50000 (96%)]\tLoss: 1.219769\n",
      "Train Epoch: 3 Batch Index: 760 [48640/50000 (97%)]\tLoss: 1.228431\n",
      "Train Epoch: 3 Batch Index: 770 [49280/50000 (98%)]\tLoss: 1.263034\n",
      "Train Epoch: 3 Batch Index: 780 [49920/50000 (100%)]\tLoss: 0.972319\n",
      "\n",
      "Test set: Average loss: 0.0193, Accuracy: 5689/10000 (57%)\n",
      "\n",
      "Train Epoch: 4 Batch Index: 0 [0/50000 (0%)]\tLoss: 1.344171\n",
      "Train Epoch: 4 Batch Index: 10 [640/50000 (1%)]\tLoss: 1.295395\n",
      "Train Epoch: 4 Batch Index: 20 [1280/50000 (3%)]\tLoss: 1.264770\n",
      "Train Epoch: 4 Batch Index: 30 [1920/50000 (4%)]\tLoss: 1.466893\n",
      "Train Epoch: 4 Batch Index: 40 [2560/50000 (5%)]\tLoss: 0.852790\n",
      "Train Epoch: 4 Batch Index: 50 [3200/50000 (6%)]\tLoss: 1.188222\n",
      "Train Epoch: 4 Batch Index: 60 [3840/50000 (8%)]\tLoss: 1.286837\n",
      "Train Epoch: 4 Batch Index: 70 [4480/50000 (9%)]\tLoss: 1.353745\n",
      "Train Epoch: 4 Batch Index: 80 [5120/50000 (10%)]\tLoss: 1.311388\n",
      "Train Epoch: 4 Batch Index: 90 [5760/50000 (12%)]\tLoss: 1.097640\n",
      "Train Epoch: 4 Batch Index: 100 [6400/50000 (13%)]\tLoss: 1.109602\n",
      "Train Epoch: 4 Batch Index: 110 [7040/50000 (14%)]\tLoss: 1.255332\n",
      "Train Epoch: 4 Batch Index: 120 [7680/50000 (15%)]\tLoss: 1.144552\n",
      "Train Epoch: 4 Batch Index: 130 [8320/50000 (17%)]\tLoss: 1.015185\n",
      "Train Epoch: 4 Batch Index: 140 [8960/50000 (18%)]\tLoss: 1.051985\n",
      "Train Epoch: 4 Batch Index: 150 [9600/50000 (19%)]\tLoss: 1.184800\n",
      "Train Epoch: 4 Batch Index: 160 [10240/50000 (20%)]\tLoss: 1.476516\n",
      "Train Epoch: 4 Batch Index: 170 [10880/50000 (22%)]\tLoss: 1.418231\n",
      "Train Epoch: 4 Batch Index: 180 [11520/50000 (23%)]\tLoss: 1.295707\n",
      "Train Epoch: 4 Batch Index: 190 [12160/50000 (24%)]\tLoss: 1.143968\n",
      "Train Epoch: 4 Batch Index: 200 [12800/50000 (26%)]\tLoss: 1.182163\n",
      "Train Epoch: 4 Batch Index: 210 [13440/50000 (27%)]\tLoss: 1.126422\n",
      "Train Epoch: 4 Batch Index: 220 [14080/50000 (28%)]\tLoss: 1.031866\n",
      "Train Epoch: 4 Batch Index: 230 [14720/50000 (29%)]\tLoss: 1.277848\n",
      "Train Epoch: 4 Batch Index: 240 [15360/50000 (31%)]\tLoss: 1.106579\n",
      "Train Epoch: 4 Batch Index: 250 [16000/50000 (32%)]\tLoss: 1.112471\n",
      "Train Epoch: 4 Batch Index: 260 [16640/50000 (33%)]\tLoss: 1.185001\n",
      "Train Epoch: 4 Batch Index: 270 [17280/50000 (35%)]\tLoss: 1.134820\n",
      "Train Epoch: 4 Batch Index: 280 [17920/50000 (36%)]\tLoss: 1.031979\n",
      "Train Epoch: 4 Batch Index: 290 [18560/50000 (37%)]\tLoss: 0.999739\n",
      "Train Epoch: 4 Batch Index: 300 [19200/50000 (38%)]\tLoss: 0.993318\n",
      "Train Epoch: 4 Batch Index: 310 [19840/50000 (40%)]\tLoss: 1.145530\n",
      "Train Epoch: 4 Batch Index: 320 [20480/50000 (41%)]\tLoss: 1.155591\n",
      "Train Epoch: 4 Batch Index: 330 [21120/50000 (42%)]\tLoss: 1.121796\n",
      "Train Epoch: 4 Batch Index: 340 [21760/50000 (43%)]\tLoss: 1.190223\n",
      "Train Epoch: 4 Batch Index: 350 [22400/50000 (45%)]\tLoss: 1.138785\n",
      "Train Epoch: 4 Batch Index: 360 [23040/50000 (46%)]\tLoss: 1.215614\n",
      "Train Epoch: 4 Batch Index: 370 [23680/50000 (47%)]\tLoss: 1.165092\n",
      "Train Epoch: 4 Batch Index: 380 [24320/50000 (49%)]\tLoss: 0.987596\n",
      "Train Epoch: 4 Batch Index: 390 [24960/50000 (50%)]\tLoss: 1.093856\n",
      "Train Epoch: 4 Batch Index: 400 [25600/50000 (51%)]\tLoss: 1.133048\n",
      "Train Epoch: 4 Batch Index: 410 [26240/50000 (52%)]\tLoss: 1.374205\n",
      "Train Epoch: 4 Batch Index: 420 [26880/50000 (54%)]\tLoss: 1.325529\n",
      "Train Epoch: 4 Batch Index: 430 [27520/50000 (55%)]\tLoss: 1.201488\n",
      "Train Epoch: 4 Batch Index: 440 [28160/50000 (56%)]\tLoss: 1.364378\n",
      "Train Epoch: 4 Batch Index: 450 [28800/50000 (58%)]\tLoss: 1.100984\n",
      "Train Epoch: 4 Batch Index: 460 [29440/50000 (59%)]\tLoss: 1.267634\n",
      "Train Epoch: 4 Batch Index: 470 [30080/50000 (60%)]\tLoss: 1.294117\n",
      "Train Epoch: 4 Batch Index: 480 [30720/50000 (61%)]\tLoss: 1.054315\n",
      "Train Epoch: 4 Batch Index: 490 [31360/50000 (63%)]\tLoss: 1.181346\n",
      "Train Epoch: 4 Batch Index: 500 [32000/50000 (64%)]\tLoss: 1.359382\n",
      "Train Epoch: 4 Batch Index: 510 [32640/50000 (65%)]\tLoss: 1.309254\n"
     ]
    },
    {
     "name": "stdout",
     "output_type": "stream",
     "text": [
      "Train Epoch: 4 Batch Index: 520 [33280/50000 (66%)]\tLoss: 1.015152\n",
      "Train Epoch: 4 Batch Index: 530 [33920/50000 (68%)]\tLoss: 1.143649\n",
      "Train Epoch: 4 Batch Index: 540 [34560/50000 (69%)]\tLoss: 1.006521\n",
      "Train Epoch: 4 Batch Index: 550 [35200/50000 (70%)]\tLoss: 1.427323\n",
      "Train Epoch: 4 Batch Index: 560 [35840/50000 (72%)]\tLoss: 1.046479\n",
      "Train Epoch: 4 Batch Index: 570 [36480/50000 (73%)]\tLoss: 1.127003\n",
      "Train Epoch: 4 Batch Index: 580 [37120/50000 (74%)]\tLoss: 1.029791\n",
      "Train Epoch: 4 Batch Index: 590 [37760/50000 (75%)]\tLoss: 1.187112\n",
      "Train Epoch: 4 Batch Index: 600 [38400/50000 (77%)]\tLoss: 1.339647\n",
      "Train Epoch: 4 Batch Index: 610 [39040/50000 (78%)]\tLoss: 1.123722\n",
      "Train Epoch: 4 Batch Index: 620 [39680/50000 (79%)]\tLoss: 1.084890\n",
      "Train Epoch: 4 Batch Index: 630 [40320/50000 (81%)]\tLoss: 1.401927\n",
      "Train Epoch: 4 Batch Index: 640 [40960/50000 (82%)]\tLoss: 1.078529\n",
      "Train Epoch: 4 Batch Index: 650 [41600/50000 (83%)]\tLoss: 1.120590\n",
      "Train Epoch: 4 Batch Index: 660 [42240/50000 (84%)]\tLoss: 1.175509\n",
      "Train Epoch: 4 Batch Index: 670 [42880/50000 (86%)]\tLoss: 1.171079\n",
      "Train Epoch: 4 Batch Index: 680 [43520/50000 (87%)]\tLoss: 1.298782\n",
      "Train Epoch: 4 Batch Index: 690 [44160/50000 (88%)]\tLoss: 1.559791\n",
      "Train Epoch: 4 Batch Index: 700 [44800/50000 (90%)]\tLoss: 1.233819\n",
      "Train Epoch: 4 Batch Index: 710 [45440/50000 (91%)]\tLoss: 1.232499\n",
      "Train Epoch: 4 Batch Index: 720 [46080/50000 (92%)]\tLoss: 1.187681\n",
      "Train Epoch: 4 Batch Index: 730 [46720/50000 (93%)]\tLoss: 1.083487\n",
      "Train Epoch: 4 Batch Index: 740 [47360/50000 (95%)]\tLoss: 0.949513\n",
      "Train Epoch: 4 Batch Index: 750 [48000/50000 (96%)]\tLoss: 1.027726\n",
      "Train Epoch: 4 Batch Index: 760 [48640/50000 (97%)]\tLoss: 1.310186\n",
      "Train Epoch: 4 Batch Index: 770 [49280/50000 (98%)]\tLoss: 1.160098\n",
      "Train Epoch: 4 Batch Index: 780 [49920/50000 (100%)]\tLoss: 1.402234\n",
      "\n",
      "Test set: Average loss: 0.0206, Accuracy: 5436/10000 (54%)\n",
      "\n",
      "Train Epoch: 5 Batch Index: 0 [0/50000 (0%)]\tLoss: 1.325360\n",
      "Train Epoch: 5 Batch Index: 10 [640/50000 (1%)]\tLoss: 1.339879\n",
      "Train Epoch: 5 Batch Index: 20 [1280/50000 (3%)]\tLoss: 1.214082\n",
      "Train Epoch: 5 Batch Index: 30 [1920/50000 (4%)]\tLoss: 1.102684\n",
      "Train Epoch: 5 Batch Index: 40 [2560/50000 (5%)]\tLoss: 0.994738\n",
      "Train Epoch: 5 Batch Index: 50 [3200/50000 (6%)]\tLoss: 1.170224\n",
      "Train Epoch: 5 Batch Index: 60 [3840/50000 (8%)]\tLoss: 1.232638\n",
      "Train Epoch: 5 Batch Index: 70 [4480/50000 (9%)]\tLoss: 1.157365\n",
      "Train Epoch: 5 Batch Index: 80 [5120/50000 (10%)]\tLoss: 1.017548\n",
      "Train Epoch: 5 Batch Index: 90 [5760/50000 (12%)]\tLoss: 1.301034\n",
      "Train Epoch: 5 Batch Index: 100 [6400/50000 (13%)]\tLoss: 1.045255\n",
      "Train Epoch: 5 Batch Index: 110 [7040/50000 (14%)]\tLoss: 1.169841\n",
      "Train Epoch: 5 Batch Index: 120 [7680/50000 (15%)]\tLoss: 0.962751\n",
      "Train Epoch: 5 Batch Index: 130 [8320/50000 (17%)]\tLoss: 1.091969\n",
      "Train Epoch: 5 Batch Index: 140 [8960/50000 (18%)]\tLoss: 1.214595\n",
      "Train Epoch: 5 Batch Index: 150 [9600/50000 (19%)]\tLoss: 1.122488\n",
      "Train Epoch: 5 Batch Index: 160 [10240/50000 (20%)]\tLoss: 1.122671\n",
      "Train Epoch: 5 Batch Index: 170 [10880/50000 (22%)]\tLoss: 1.342608\n",
      "Train Epoch: 5 Batch Index: 180 [11520/50000 (23%)]\tLoss: 1.160038\n",
      "Train Epoch: 5 Batch Index: 190 [12160/50000 (24%)]\tLoss: 1.444825\n",
      "Train Epoch: 5 Batch Index: 200 [12800/50000 (26%)]\tLoss: 1.156158\n",
      "Train Epoch: 5 Batch Index: 210 [13440/50000 (27%)]\tLoss: 1.207341\n",
      "Train Epoch: 5 Batch Index: 220 [14080/50000 (28%)]\tLoss: 1.104450\n",
      "Train Epoch: 5 Batch Index: 230 [14720/50000 (29%)]\tLoss: 1.060712\n",
      "Train Epoch: 5 Batch Index: 240 [15360/50000 (31%)]\tLoss: 1.079354\n",
      "Train Epoch: 5 Batch Index: 250 [16000/50000 (32%)]\tLoss: 1.046183\n",
      "Train Epoch: 5 Batch Index: 260 [16640/50000 (33%)]\tLoss: 1.216933\n",
      "Train Epoch: 5 Batch Index: 270 [17280/50000 (35%)]\tLoss: 0.965001\n",
      "Train Epoch: 5 Batch Index: 280 [17920/50000 (36%)]\tLoss: 1.313317\n",
      "Train Epoch: 5 Batch Index: 290 [18560/50000 (37%)]\tLoss: 1.313811\n",
      "Train Epoch: 5 Batch Index: 300 [19200/50000 (38%)]\tLoss: 0.975965\n",
      "Train Epoch: 5 Batch Index: 310 [19840/50000 (40%)]\tLoss: 1.141172\n",
      "Train Epoch: 5 Batch Index: 320 [20480/50000 (41%)]\tLoss: 1.437114\n",
      "Train Epoch: 5 Batch Index: 330 [21120/50000 (42%)]\tLoss: 1.067170\n",
      "Train Epoch: 5 Batch Index: 340 [21760/50000 (43%)]\tLoss: 0.943608\n",
      "Train Epoch: 5 Batch Index: 350 [22400/50000 (45%)]\tLoss: 1.156834\n",
      "Train Epoch: 5 Batch Index: 360 [23040/50000 (46%)]\tLoss: 1.199368\n",
      "Train Epoch: 5 Batch Index: 370 [23680/50000 (47%)]\tLoss: 1.103964\n",
      "Train Epoch: 5 Batch Index: 380 [24320/50000 (49%)]\tLoss: 1.065581\n",
      "Train Epoch: 5 Batch Index: 390 [24960/50000 (50%)]\tLoss: 1.160900\n",
      "Train Epoch: 5 Batch Index: 400 [25600/50000 (51%)]\tLoss: 1.435230\n",
      "Train Epoch: 5 Batch Index: 410 [26240/50000 (52%)]\tLoss: 1.051739\n",
      "Train Epoch: 5 Batch Index: 420 [26880/50000 (54%)]\tLoss: 1.083307\n",
      "Train Epoch: 5 Batch Index: 430 [27520/50000 (55%)]\tLoss: 1.006555\n",
      "Train Epoch: 5 Batch Index: 440 [28160/50000 (56%)]\tLoss: 0.856644\n",
      "Train Epoch: 5 Batch Index: 450 [28800/50000 (58%)]\tLoss: 0.952591\n",
      "Train Epoch: 5 Batch Index: 460 [29440/50000 (59%)]\tLoss: 1.035119\n",
      "Train Epoch: 5 Batch Index: 470 [30080/50000 (60%)]\tLoss: 1.095057\n",
      "Train Epoch: 5 Batch Index: 480 [30720/50000 (61%)]\tLoss: 1.033141\n",
      "Train Epoch: 5 Batch Index: 490 [31360/50000 (63%)]\tLoss: 1.456361\n",
      "Train Epoch: 5 Batch Index: 500 [32000/50000 (64%)]\tLoss: 1.171305\n",
      "Train Epoch: 5 Batch Index: 510 [32640/50000 (65%)]\tLoss: 1.259139\n",
      "Train Epoch: 5 Batch Index: 520 [33280/50000 (66%)]\tLoss: 1.225980\n",
      "Train Epoch: 5 Batch Index: 530 [33920/50000 (68%)]\tLoss: 1.059550\n",
      "Train Epoch: 5 Batch Index: 540 [34560/50000 (69%)]\tLoss: 1.085684\n",
      "Train Epoch: 5 Batch Index: 550 [35200/50000 (70%)]\tLoss: 1.161161\n",
      "Train Epoch: 5 Batch Index: 560 [35840/50000 (72%)]\tLoss: 1.022413\n",
      "Train Epoch: 5 Batch Index: 570 [36480/50000 (73%)]\tLoss: 1.215979\n",
      "Train Epoch: 5 Batch Index: 580 [37120/50000 (74%)]\tLoss: 1.088415\n",
      "Train Epoch: 5 Batch Index: 590 [37760/50000 (75%)]\tLoss: 1.276957\n",
      "Train Epoch: 5 Batch Index: 600 [38400/50000 (77%)]\tLoss: 1.118105\n",
      "Train Epoch: 5 Batch Index: 610 [39040/50000 (78%)]\tLoss: 1.463225\n",
      "Train Epoch: 5 Batch Index: 620 [39680/50000 (79%)]\tLoss: 1.167655\n",
      "Train Epoch: 5 Batch Index: 630 [40320/50000 (81%)]\tLoss: 1.153389\n",
      "Train Epoch: 5 Batch Index: 640 [40960/50000 (82%)]\tLoss: 1.163116\n",
      "Train Epoch: 5 Batch Index: 650 [41600/50000 (83%)]\tLoss: 0.981729\n",
      "Train Epoch: 5 Batch Index: 660 [42240/50000 (84%)]\tLoss: 1.047838\n",
      "Train Epoch: 5 Batch Index: 670 [42880/50000 (86%)]\tLoss: 0.957429\n",
      "Train Epoch: 5 Batch Index: 680 [43520/50000 (87%)]\tLoss: 0.953445\n",
      "Train Epoch: 5 Batch Index: 690 [44160/50000 (88%)]\tLoss: 1.257091\n",
      "Train Epoch: 5 Batch Index: 700 [44800/50000 (90%)]\tLoss: 1.174070\n",
      "Train Epoch: 5 Batch Index: 710 [45440/50000 (91%)]\tLoss: 1.158339\n",
      "Train Epoch: 5 Batch Index: 720 [46080/50000 (92%)]\tLoss: 1.414070\n",
      "Train Epoch: 5 Batch Index: 730 [46720/50000 (93%)]\tLoss: 1.168838\n",
      "Train Epoch: 5 Batch Index: 740 [47360/50000 (95%)]\tLoss: 1.178340\n",
      "Train Epoch: 5 Batch Index: 750 [48000/50000 (96%)]\tLoss: 1.087064\n",
      "Train Epoch: 5 Batch Index: 760 [48640/50000 (97%)]\tLoss: 1.117263\n",
      "Train Epoch: 5 Batch Index: 770 [49280/50000 (98%)]\tLoss: 1.299708\n",
      "Train Epoch: 5 Batch Index: 780 [49920/50000 (100%)]\tLoss: 0.952916\n",
      "\n",
      "Test set: Average loss: 0.0188, Accuracy: 5760/10000 (58%)\n",
      "\n",
      "Train Epoch: 6 Batch Index: 0 [0/50000 (0%)]\tLoss: 1.290917\n",
      "Train Epoch: 6 Batch Index: 10 [640/50000 (1%)]\tLoss: 1.084437\n",
      "Train Epoch: 6 Batch Index: 20 [1280/50000 (3%)]\tLoss: 1.261535\n",
      "Train Epoch: 6 Batch Index: 30 [1920/50000 (4%)]\tLoss: 1.307564\n",
      "Train Epoch: 6 Batch Index: 40 [2560/50000 (5%)]\tLoss: 1.041037\n",
      "Train Epoch: 6 Batch Index: 50 [3200/50000 (6%)]\tLoss: 1.034206\n",
      "Train Epoch: 6 Batch Index: 60 [3840/50000 (8%)]\tLoss: 1.041281\n",
      "Train Epoch: 6 Batch Index: 70 [4480/50000 (9%)]\tLoss: 1.237841\n",
      "Train Epoch: 6 Batch Index: 80 [5120/50000 (10%)]\tLoss: 1.224888\n",
      "Train Epoch: 6 Batch Index: 90 [5760/50000 (12%)]\tLoss: 1.009810\n",
      "Train Epoch: 6 Batch Index: 100 [6400/50000 (13%)]\tLoss: 0.921261\n",
      "Train Epoch: 6 Batch Index: 110 [7040/50000 (14%)]\tLoss: 1.158071\n",
      "Train Epoch: 6 Batch Index: 120 [7680/50000 (15%)]\tLoss: 1.147400\n",
      "Train Epoch: 6 Batch Index: 130 [8320/50000 (17%)]\tLoss: 1.321395\n",
      "Train Epoch: 6 Batch Index: 140 [8960/50000 (18%)]\tLoss: 1.197444\n",
      "Train Epoch: 6 Batch Index: 150 [9600/50000 (19%)]\tLoss: 1.265551\n"
     ]
    },
    {
     "name": "stdout",
     "output_type": "stream",
     "text": [
      "Train Epoch: 6 Batch Index: 160 [10240/50000 (20%)]\tLoss: 1.198244\n",
      "Train Epoch: 6 Batch Index: 170 [10880/50000 (22%)]\tLoss: 1.334151\n",
      "Train Epoch: 6 Batch Index: 180 [11520/50000 (23%)]\tLoss: 0.767608\n",
      "Train Epoch: 6 Batch Index: 190 [12160/50000 (24%)]\tLoss: 1.145543\n",
      "Train Epoch: 6 Batch Index: 200 [12800/50000 (26%)]\tLoss: 1.060760\n",
      "Train Epoch: 6 Batch Index: 210 [13440/50000 (27%)]\tLoss: 1.122035\n",
      "Train Epoch: 6 Batch Index: 220 [14080/50000 (28%)]\tLoss: 1.101376\n",
      "Train Epoch: 6 Batch Index: 230 [14720/50000 (29%)]\tLoss: 1.221846\n",
      "Train Epoch: 6 Batch Index: 240 [15360/50000 (31%)]\tLoss: 0.822575\n",
      "Train Epoch: 6 Batch Index: 250 [16000/50000 (32%)]\tLoss: 1.198484\n",
      "Train Epoch: 6 Batch Index: 260 [16640/50000 (33%)]\tLoss: 1.348911\n",
      "Train Epoch: 6 Batch Index: 270 [17280/50000 (35%)]\tLoss: 1.171429\n",
      "Train Epoch: 6 Batch Index: 280 [17920/50000 (36%)]\tLoss: 0.932222\n",
      "Train Epoch: 6 Batch Index: 290 [18560/50000 (37%)]\tLoss: 1.242455\n",
      "Train Epoch: 6 Batch Index: 300 [19200/50000 (38%)]\tLoss: 1.308849\n",
      "Train Epoch: 6 Batch Index: 310 [19840/50000 (40%)]\tLoss: 1.520102\n",
      "Train Epoch: 6 Batch Index: 320 [20480/50000 (41%)]\tLoss: 1.107986\n",
      "Train Epoch: 6 Batch Index: 330 [21120/50000 (42%)]\tLoss: 1.093935\n",
      "Train Epoch: 6 Batch Index: 340 [21760/50000 (43%)]\tLoss: 1.144266\n",
      "Train Epoch: 6 Batch Index: 350 [22400/50000 (45%)]\tLoss: 1.108398\n",
      "Train Epoch: 6 Batch Index: 360 [23040/50000 (46%)]\tLoss: 1.067635\n",
      "Train Epoch: 6 Batch Index: 370 [23680/50000 (47%)]\tLoss: 1.168364\n",
      "Train Epoch: 6 Batch Index: 380 [24320/50000 (49%)]\tLoss: 1.137492\n",
      "Train Epoch: 6 Batch Index: 390 [24960/50000 (50%)]\tLoss: 1.065046\n",
      "Train Epoch: 6 Batch Index: 400 [25600/50000 (51%)]\tLoss: 0.970027\n",
      "Train Epoch: 6 Batch Index: 410 [26240/50000 (52%)]\tLoss: 1.017583\n",
      "Train Epoch: 6 Batch Index: 420 [26880/50000 (54%)]\tLoss: 1.006201\n",
      "Train Epoch: 6 Batch Index: 430 [27520/50000 (55%)]\tLoss: 1.096261\n",
      "Train Epoch: 6 Batch Index: 440 [28160/50000 (56%)]\tLoss: 1.012146\n",
      "Train Epoch: 6 Batch Index: 450 [28800/50000 (58%)]\tLoss: 1.136627\n",
      "Train Epoch: 6 Batch Index: 460 [29440/50000 (59%)]\tLoss: 1.176561\n",
      "Train Epoch: 6 Batch Index: 470 [30080/50000 (60%)]\tLoss: 1.042160\n",
      "Train Epoch: 6 Batch Index: 480 [30720/50000 (61%)]\tLoss: 1.265556\n",
      "Train Epoch: 6 Batch Index: 490 [31360/50000 (63%)]\tLoss: 1.340519\n",
      "Train Epoch: 6 Batch Index: 500 [32000/50000 (64%)]\tLoss: 1.395985\n",
      "Train Epoch: 6 Batch Index: 510 [32640/50000 (65%)]\tLoss: 0.954901\n",
      "Train Epoch: 6 Batch Index: 520 [33280/50000 (66%)]\tLoss: 1.254864\n",
      "Train Epoch: 6 Batch Index: 530 [33920/50000 (68%)]\tLoss: 1.466999\n",
      "Train Epoch: 6 Batch Index: 540 [34560/50000 (69%)]\tLoss: 1.018810\n",
      "Train Epoch: 6 Batch Index: 550 [35200/50000 (70%)]\tLoss: 1.194578\n",
      "Train Epoch: 6 Batch Index: 560 [35840/50000 (72%)]\tLoss: 1.117206\n",
      "Train Epoch: 6 Batch Index: 570 [36480/50000 (73%)]\tLoss: 0.799378\n",
      "Train Epoch: 6 Batch Index: 580 [37120/50000 (74%)]\tLoss: 1.125744\n",
      "Train Epoch: 6 Batch Index: 590 [37760/50000 (75%)]\tLoss: 1.284642\n",
      "Train Epoch: 6 Batch Index: 600 [38400/50000 (77%)]\tLoss: 0.936205\n",
      "Train Epoch: 6 Batch Index: 610 [39040/50000 (78%)]\tLoss: 1.092372\n",
      "Train Epoch: 6 Batch Index: 620 [39680/50000 (79%)]\tLoss: 1.185486\n",
      "Train Epoch: 6 Batch Index: 630 [40320/50000 (81%)]\tLoss: 1.253646\n",
      "Train Epoch: 6 Batch Index: 640 [40960/50000 (82%)]\tLoss: 1.269032\n",
      "Train Epoch: 6 Batch Index: 650 [41600/50000 (83%)]\tLoss: 1.251089\n",
      "Train Epoch: 6 Batch Index: 660 [42240/50000 (84%)]\tLoss: 0.974676\n",
      "Train Epoch: 6 Batch Index: 670 [42880/50000 (86%)]\tLoss: 1.287261\n",
      "Train Epoch: 6 Batch Index: 680 [43520/50000 (87%)]\tLoss: 1.025920\n",
      "Train Epoch: 6 Batch Index: 690 [44160/50000 (88%)]\tLoss: 1.309387\n",
      "Train Epoch: 6 Batch Index: 700 [44800/50000 (90%)]\tLoss: 0.917301\n",
      "Train Epoch: 6 Batch Index: 710 [45440/50000 (91%)]\tLoss: 1.287177\n",
      "Train Epoch: 6 Batch Index: 720 [46080/50000 (92%)]\tLoss: 1.173015\n",
      "Train Epoch: 6 Batch Index: 730 [46720/50000 (93%)]\tLoss: 1.038529\n",
      "Train Epoch: 6 Batch Index: 740 [47360/50000 (95%)]\tLoss: 1.101797\n",
      "Train Epoch: 6 Batch Index: 750 [48000/50000 (96%)]\tLoss: 1.090660\n",
      "Train Epoch: 6 Batch Index: 760 [48640/50000 (97%)]\tLoss: 1.161881\n",
      "Train Epoch: 6 Batch Index: 770 [49280/50000 (98%)]\tLoss: 1.027258\n",
      "Train Epoch: 6 Batch Index: 780 [49920/50000 (100%)]\tLoss: 1.113618\n",
      "\n",
      "Test set: Average loss: 0.0188, Accuracy: 5851/10000 (59%)\n",
      "\n",
      "Train Epoch: 7 Batch Index: 0 [0/50000 (0%)]\tLoss: 1.503107\n",
      "Train Epoch: 7 Batch Index: 10 [640/50000 (1%)]\tLoss: 0.952977\n",
      "Train Epoch: 7 Batch Index: 20 [1280/50000 (3%)]\tLoss: 1.156887\n",
      "Train Epoch: 7 Batch Index: 30 [1920/50000 (4%)]\tLoss: 0.929503\n",
      "Train Epoch: 7 Batch Index: 40 [2560/50000 (5%)]\tLoss: 0.932143\n",
      "Train Epoch: 7 Batch Index: 50 [3200/50000 (6%)]\tLoss: 0.980447\n",
      "Train Epoch: 7 Batch Index: 60 [3840/50000 (8%)]\tLoss: 0.852290\n",
      "Train Epoch: 7 Batch Index: 70 [4480/50000 (9%)]\tLoss: 0.850417\n",
      "Train Epoch: 7 Batch Index: 80 [5120/50000 (10%)]\tLoss: 1.200693\n",
      "Train Epoch: 7 Batch Index: 90 [5760/50000 (12%)]\tLoss: 1.085306\n",
      "Train Epoch: 7 Batch Index: 100 [6400/50000 (13%)]\tLoss: 1.008258\n",
      "Train Epoch: 7 Batch Index: 110 [7040/50000 (14%)]\tLoss: 0.907051\n",
      "Train Epoch: 7 Batch Index: 120 [7680/50000 (15%)]\tLoss: 1.068480\n",
      "Train Epoch: 7 Batch Index: 130 [8320/50000 (17%)]\tLoss: 1.089571\n",
      "Train Epoch: 7 Batch Index: 140 [8960/50000 (18%)]\tLoss: 1.253248\n",
      "Train Epoch: 7 Batch Index: 150 [9600/50000 (19%)]\tLoss: 1.198843\n",
      "Train Epoch: 7 Batch Index: 160 [10240/50000 (20%)]\tLoss: 1.279189\n",
      "Train Epoch: 7 Batch Index: 170 [10880/50000 (22%)]\tLoss: 1.424198\n",
      "Train Epoch: 7 Batch Index: 180 [11520/50000 (23%)]\tLoss: 1.275672\n",
      "Train Epoch: 7 Batch Index: 190 [12160/50000 (24%)]\tLoss: 0.917970\n",
      "Train Epoch: 7 Batch Index: 200 [12800/50000 (26%)]\tLoss: 1.147167\n",
      "Train Epoch: 7 Batch Index: 210 [13440/50000 (27%)]\tLoss: 0.996766\n",
      "Train Epoch: 7 Batch Index: 220 [14080/50000 (28%)]\tLoss: 0.989959\n",
      "Train Epoch: 7 Batch Index: 230 [14720/50000 (29%)]\tLoss: 1.185551\n",
      "Train Epoch: 7 Batch Index: 240 [15360/50000 (31%)]\tLoss: 1.085853\n",
      "Train Epoch: 7 Batch Index: 250 [16000/50000 (32%)]\tLoss: 0.797922\n",
      "Train Epoch: 7 Batch Index: 260 [16640/50000 (33%)]\tLoss: 1.163282\n",
      "Train Epoch: 7 Batch Index: 270 [17280/50000 (35%)]\tLoss: 1.066405\n",
      "Train Epoch: 7 Batch Index: 280 [17920/50000 (36%)]\tLoss: 1.154477\n",
      "Train Epoch: 7 Batch Index: 290 [18560/50000 (37%)]\tLoss: 0.896619\n",
      "Train Epoch: 7 Batch Index: 300 [19200/50000 (38%)]\tLoss: 1.129217\n",
      "Train Epoch: 7 Batch Index: 310 [19840/50000 (40%)]\tLoss: 1.034125\n",
      "Train Epoch: 7 Batch Index: 320 [20480/50000 (41%)]\tLoss: 1.163590\n",
      "Train Epoch: 7 Batch Index: 330 [21120/50000 (42%)]\tLoss: 1.331036\n",
      "Train Epoch: 7 Batch Index: 340 [21760/50000 (43%)]\tLoss: 1.082063\n",
      "Train Epoch: 7 Batch Index: 350 [22400/50000 (45%)]\tLoss: 1.056597\n",
      "Train Epoch: 7 Batch Index: 360 [23040/50000 (46%)]\tLoss: 1.188815\n",
      "Train Epoch: 7 Batch Index: 370 [23680/50000 (47%)]\tLoss: 0.888489\n",
      "Train Epoch: 7 Batch Index: 380 [24320/50000 (49%)]\tLoss: 1.015617\n",
      "Train Epoch: 7 Batch Index: 390 [24960/50000 (50%)]\tLoss: 1.114350\n",
      "Train Epoch: 7 Batch Index: 400 [25600/50000 (51%)]\tLoss: 1.268542\n",
      "Train Epoch: 7 Batch Index: 410 [26240/50000 (52%)]\tLoss: 1.137306\n",
      "Train Epoch: 7 Batch Index: 420 [26880/50000 (54%)]\tLoss: 0.907846\n",
      "Train Epoch: 7 Batch Index: 430 [27520/50000 (55%)]\tLoss: 0.884496\n",
      "Train Epoch: 7 Batch Index: 440 [28160/50000 (56%)]\tLoss: 1.092181\n",
      "Train Epoch: 7 Batch Index: 450 [28800/50000 (58%)]\tLoss: 1.280442\n",
      "Train Epoch: 7 Batch Index: 460 [29440/50000 (59%)]\tLoss: 0.832193\n",
      "Train Epoch: 7 Batch Index: 470 [30080/50000 (60%)]\tLoss: 1.066710\n",
      "Train Epoch: 7 Batch Index: 480 [30720/50000 (61%)]\tLoss: 1.424179\n",
      "Train Epoch: 7 Batch Index: 490 [31360/50000 (63%)]\tLoss: 0.994430\n",
      "Train Epoch: 7 Batch Index: 500 [32000/50000 (64%)]\tLoss: 0.928736\n",
      "Train Epoch: 7 Batch Index: 510 [32640/50000 (65%)]\tLoss: 1.038127\n",
      "Train Epoch: 7 Batch Index: 520 [33280/50000 (66%)]\tLoss: 0.726563\n",
      "Train Epoch: 7 Batch Index: 530 [33920/50000 (68%)]\tLoss: 1.344670\n",
      "Train Epoch: 7 Batch Index: 540 [34560/50000 (69%)]\tLoss: 1.176334\n",
      "Train Epoch: 7 Batch Index: 550 [35200/50000 (70%)]\tLoss: 1.232223\n",
      "Train Epoch: 7 Batch Index: 560 [35840/50000 (72%)]\tLoss: 1.063138\n",
      "Train Epoch: 7 Batch Index: 570 [36480/50000 (73%)]\tLoss: 1.105645\n",
      "Train Epoch: 7 Batch Index: 580 [37120/50000 (74%)]\tLoss: 1.247942\n"
     ]
    },
    {
     "name": "stdout",
     "output_type": "stream",
     "text": [
      "Train Epoch: 7 Batch Index: 590 [37760/50000 (75%)]\tLoss: 0.891896\n",
      "Train Epoch: 7 Batch Index: 600 [38400/50000 (77%)]\tLoss: 1.112137\n",
      "Train Epoch: 7 Batch Index: 610 [39040/50000 (78%)]\tLoss: 1.015315\n",
      "Train Epoch: 7 Batch Index: 620 [39680/50000 (79%)]\tLoss: 1.187000\n",
      "Train Epoch: 7 Batch Index: 630 [40320/50000 (81%)]\tLoss: 0.915128\n",
      "Train Epoch: 7 Batch Index: 640 [40960/50000 (82%)]\tLoss: 1.106315\n",
      "Train Epoch: 7 Batch Index: 650 [41600/50000 (83%)]\tLoss: 0.977586\n",
      "Train Epoch: 7 Batch Index: 660 [42240/50000 (84%)]\tLoss: 0.767320\n",
      "Train Epoch: 7 Batch Index: 670 [42880/50000 (86%)]\tLoss: 1.084303\n",
      "Train Epoch: 7 Batch Index: 680 [43520/50000 (87%)]\tLoss: 0.994633\n",
      "Train Epoch: 7 Batch Index: 690 [44160/50000 (88%)]\tLoss: 1.121025\n",
      "Train Epoch: 7 Batch Index: 700 [44800/50000 (90%)]\tLoss: 1.130288\n",
      "Train Epoch: 7 Batch Index: 710 [45440/50000 (91%)]\tLoss: 1.144197\n",
      "Train Epoch: 7 Batch Index: 720 [46080/50000 (92%)]\tLoss: 0.884200\n",
      "Train Epoch: 7 Batch Index: 730 [46720/50000 (93%)]\tLoss: 1.097889\n",
      "Train Epoch: 7 Batch Index: 740 [47360/50000 (95%)]\tLoss: 1.154458\n",
      "Train Epoch: 7 Batch Index: 750 [48000/50000 (96%)]\tLoss: 1.130937\n",
      "Train Epoch: 7 Batch Index: 760 [48640/50000 (97%)]\tLoss: 1.388906\n",
      "Train Epoch: 7 Batch Index: 770 [49280/50000 (98%)]\tLoss: 1.237097\n",
      "Train Epoch: 7 Batch Index: 780 [49920/50000 (100%)]\tLoss: 0.998442\n",
      "\n",
      "Test set: Average loss: 0.0179, Accuracy: 6028/10000 (60%)\n",
      "\n",
      "Train Epoch: 8 Batch Index: 0 [0/50000 (0%)]\tLoss: 0.960249\n",
      "Train Epoch: 8 Batch Index: 10 [640/50000 (1%)]\tLoss: 1.356303\n",
      "Train Epoch: 8 Batch Index: 20 [1280/50000 (3%)]\tLoss: 0.951712\n",
      "Train Epoch: 8 Batch Index: 30 [1920/50000 (4%)]\tLoss: 1.176848\n",
      "Train Epoch: 8 Batch Index: 40 [2560/50000 (5%)]\tLoss: 1.007574\n",
      "Train Epoch: 8 Batch Index: 50 [3200/50000 (6%)]\tLoss: 1.043460\n",
      "Train Epoch: 8 Batch Index: 60 [3840/50000 (8%)]\tLoss: 1.097670\n",
      "Train Epoch: 8 Batch Index: 70 [4480/50000 (9%)]\tLoss: 1.166187\n",
      "Train Epoch: 8 Batch Index: 80 [5120/50000 (10%)]\tLoss: 1.131149\n",
      "Train Epoch: 8 Batch Index: 90 [5760/50000 (12%)]\tLoss: 0.956617\n",
      "Train Epoch: 8 Batch Index: 100 [6400/50000 (13%)]\tLoss: 1.255896\n",
      "Train Epoch: 8 Batch Index: 110 [7040/50000 (14%)]\tLoss: 0.997756\n",
      "Train Epoch: 8 Batch Index: 120 [7680/50000 (15%)]\tLoss: 1.054501\n",
      "Train Epoch: 8 Batch Index: 130 [8320/50000 (17%)]\tLoss: 0.964526\n",
      "Train Epoch: 8 Batch Index: 140 [8960/50000 (18%)]\tLoss: 0.809018\n",
      "Train Epoch: 8 Batch Index: 150 [9600/50000 (19%)]\tLoss: 1.440879\n",
      "Train Epoch: 8 Batch Index: 160 [10240/50000 (20%)]\tLoss: 1.099286\n",
      "Train Epoch: 8 Batch Index: 170 [10880/50000 (22%)]\tLoss: 1.391450\n",
      "Train Epoch: 8 Batch Index: 180 [11520/50000 (23%)]\tLoss: 1.368417\n",
      "Train Epoch: 8 Batch Index: 190 [12160/50000 (24%)]\tLoss: 0.803966\n",
      "Train Epoch: 8 Batch Index: 200 [12800/50000 (26%)]\tLoss: 1.099381\n",
      "Train Epoch: 8 Batch Index: 210 [13440/50000 (27%)]\tLoss: 1.086323\n",
      "Train Epoch: 8 Batch Index: 220 [14080/50000 (28%)]\tLoss: 1.092328\n",
      "Train Epoch: 8 Batch Index: 230 [14720/50000 (29%)]\tLoss: 1.103819\n",
      "Train Epoch: 8 Batch Index: 240 [15360/50000 (31%)]\tLoss: 1.251335\n",
      "Train Epoch: 8 Batch Index: 250 [16000/50000 (32%)]\tLoss: 0.921669\n",
      "Train Epoch: 8 Batch Index: 260 [16640/50000 (33%)]\tLoss: 1.049642\n",
      "Train Epoch: 8 Batch Index: 270 [17280/50000 (35%)]\tLoss: 1.032137\n",
      "Train Epoch: 8 Batch Index: 280 [17920/50000 (36%)]\tLoss: 0.860807\n",
      "Train Epoch: 8 Batch Index: 290 [18560/50000 (37%)]\tLoss: 1.217199\n",
      "Train Epoch: 8 Batch Index: 300 [19200/50000 (38%)]\tLoss: 1.166508\n",
      "Train Epoch: 8 Batch Index: 310 [19840/50000 (40%)]\tLoss: 1.200126\n",
      "Train Epoch: 8 Batch Index: 320 [20480/50000 (41%)]\tLoss: 1.247815\n",
      "Train Epoch: 8 Batch Index: 330 [21120/50000 (42%)]\tLoss: 1.167248\n",
      "Train Epoch: 8 Batch Index: 340 [21760/50000 (43%)]\tLoss: 1.249179\n",
      "Train Epoch: 8 Batch Index: 350 [22400/50000 (45%)]\tLoss: 1.080613\n",
      "Train Epoch: 8 Batch Index: 360 [23040/50000 (46%)]\tLoss: 0.985226\n",
      "Train Epoch: 8 Batch Index: 370 [23680/50000 (47%)]\tLoss: 1.360431\n",
      "Train Epoch: 8 Batch Index: 380 [24320/50000 (49%)]\tLoss: 1.152693\n",
      "Train Epoch: 8 Batch Index: 390 [24960/50000 (50%)]\tLoss: 0.910223\n",
      "Train Epoch: 8 Batch Index: 400 [25600/50000 (51%)]\tLoss: 1.255028\n",
      "Train Epoch: 8 Batch Index: 410 [26240/50000 (52%)]\tLoss: 1.014742\n",
      "Train Epoch: 8 Batch Index: 420 [26880/50000 (54%)]\tLoss: 1.192529\n",
      "Train Epoch: 8 Batch Index: 430 [27520/50000 (55%)]\tLoss: 1.015233\n",
      "Train Epoch: 8 Batch Index: 440 [28160/50000 (56%)]\tLoss: 0.874767\n",
      "Train Epoch: 8 Batch Index: 450 [28800/50000 (58%)]\tLoss: 1.103970\n",
      "Train Epoch: 8 Batch Index: 460 [29440/50000 (59%)]\tLoss: 0.961768\n",
      "Train Epoch: 8 Batch Index: 470 [30080/50000 (60%)]\tLoss: 0.823270\n",
      "Train Epoch: 8 Batch Index: 480 [30720/50000 (61%)]\tLoss: 1.059509\n",
      "Train Epoch: 8 Batch Index: 490 [31360/50000 (63%)]\tLoss: 1.257247\n",
      "Train Epoch: 8 Batch Index: 500 [32000/50000 (64%)]\tLoss: 0.894756\n",
      "Train Epoch: 8 Batch Index: 510 [32640/50000 (65%)]\tLoss: 1.298280\n",
      "Train Epoch: 8 Batch Index: 520 [33280/50000 (66%)]\tLoss: 1.022431\n",
      "Train Epoch: 8 Batch Index: 530 [33920/50000 (68%)]\tLoss: 1.083840\n",
      "Train Epoch: 8 Batch Index: 540 [34560/50000 (69%)]\tLoss: 0.934770\n",
      "Train Epoch: 8 Batch Index: 550 [35200/50000 (70%)]\tLoss: 1.113652\n",
      "Train Epoch: 8 Batch Index: 560 [35840/50000 (72%)]\tLoss: 0.790634\n",
      "Train Epoch: 8 Batch Index: 570 [36480/50000 (73%)]\tLoss: 1.266120\n",
      "Train Epoch: 8 Batch Index: 580 [37120/50000 (74%)]\tLoss: 1.006935\n",
      "Train Epoch: 8 Batch Index: 590 [37760/50000 (75%)]\tLoss: 1.167377\n",
      "Train Epoch: 8 Batch Index: 600 [38400/50000 (77%)]\tLoss: 0.984077\n",
      "Train Epoch: 8 Batch Index: 610 [39040/50000 (78%)]\tLoss: 0.825118\n",
      "Train Epoch: 8 Batch Index: 620 [39680/50000 (79%)]\tLoss: 1.062688\n",
      "Train Epoch: 8 Batch Index: 630 [40320/50000 (81%)]\tLoss: 0.970695\n",
      "Train Epoch: 8 Batch Index: 640 [40960/50000 (82%)]\tLoss: 1.095167\n",
      "Train Epoch: 8 Batch Index: 650 [41600/50000 (83%)]\tLoss: 1.128626\n",
      "Train Epoch: 8 Batch Index: 660 [42240/50000 (84%)]\tLoss: 1.070303\n",
      "Train Epoch: 8 Batch Index: 670 [42880/50000 (86%)]\tLoss: 1.038635\n",
      "Train Epoch: 8 Batch Index: 680 [43520/50000 (87%)]\tLoss: 0.851820\n",
      "Train Epoch: 8 Batch Index: 690 [44160/50000 (88%)]\tLoss: 1.036591\n",
      "Train Epoch: 8 Batch Index: 700 [44800/50000 (90%)]\tLoss: 0.975855\n",
      "Train Epoch: 8 Batch Index: 710 [45440/50000 (91%)]\tLoss: 1.146685\n",
      "Train Epoch: 8 Batch Index: 720 [46080/50000 (92%)]\tLoss: 1.153107\n",
      "Train Epoch: 8 Batch Index: 730 [46720/50000 (93%)]\tLoss: 0.945389\n",
      "Train Epoch: 8 Batch Index: 740 [47360/50000 (95%)]\tLoss: 1.382088\n",
      "Train Epoch: 8 Batch Index: 750 [48000/50000 (96%)]\tLoss: 1.189450\n",
      "Train Epoch: 8 Batch Index: 760 [48640/50000 (97%)]\tLoss: 1.015969\n",
      "Train Epoch: 8 Batch Index: 770 [49280/50000 (98%)]\tLoss: 1.140862\n",
      "Train Epoch: 8 Batch Index: 780 [49920/50000 (100%)]\tLoss: 0.837423\n",
      "\n",
      "Test set: Average loss: 0.0175, Accuracy: 6156/10000 (62%)\n",
      "\n",
      "Train Epoch: 9 Batch Index: 0 [0/50000 (0%)]\tLoss: 1.027066\n",
      "Train Epoch: 9 Batch Index: 10 [640/50000 (1%)]\tLoss: 1.046636\n",
      "Train Epoch: 9 Batch Index: 20 [1280/50000 (3%)]\tLoss: 0.980300\n",
      "Train Epoch: 9 Batch Index: 30 [1920/50000 (4%)]\tLoss: 1.123284\n",
      "Train Epoch: 9 Batch Index: 40 [2560/50000 (5%)]\tLoss: 1.207023\n",
      "Train Epoch: 9 Batch Index: 50 [3200/50000 (6%)]\tLoss: 0.905720\n",
      "Train Epoch: 9 Batch Index: 60 [3840/50000 (8%)]\tLoss: 0.924458\n",
      "Train Epoch: 9 Batch Index: 70 [4480/50000 (9%)]\tLoss: 1.076104\n",
      "Train Epoch: 9 Batch Index: 80 [5120/50000 (10%)]\tLoss: 0.950478\n",
      "Train Epoch: 9 Batch Index: 90 [5760/50000 (12%)]\tLoss: 1.101921\n",
      "Train Epoch: 9 Batch Index: 100 [6400/50000 (13%)]\tLoss: 0.908377\n",
      "Train Epoch: 9 Batch Index: 110 [7040/50000 (14%)]\tLoss: 1.323688\n",
      "Train Epoch: 9 Batch Index: 120 [7680/50000 (15%)]\tLoss: 1.039431\n",
      "Train Epoch: 9 Batch Index: 130 [8320/50000 (17%)]\tLoss: 1.037644\n",
      "Train Epoch: 9 Batch Index: 140 [8960/50000 (18%)]\tLoss: 0.982731\n",
      "Train Epoch: 9 Batch Index: 150 [9600/50000 (19%)]\tLoss: 1.030654\n",
      "Train Epoch: 9 Batch Index: 160 [10240/50000 (20%)]\tLoss: 0.924490\n",
      "Train Epoch: 9 Batch Index: 170 [10880/50000 (22%)]\tLoss: 1.045723\n",
      "Train Epoch: 9 Batch Index: 180 [11520/50000 (23%)]\tLoss: 1.108239\n",
      "Train Epoch: 9 Batch Index: 190 [12160/50000 (24%)]\tLoss: 1.085588\n",
      "Train Epoch: 9 Batch Index: 200 [12800/50000 (26%)]\tLoss: 0.920159\n",
      "Train Epoch: 9 Batch Index: 210 [13440/50000 (27%)]\tLoss: 0.944378\n",
      "Train Epoch: 9 Batch Index: 220 [14080/50000 (28%)]\tLoss: 1.172796\n"
     ]
    },
    {
     "name": "stdout",
     "output_type": "stream",
     "text": [
      "Train Epoch: 9 Batch Index: 230 [14720/50000 (29%)]\tLoss: 1.030095\n",
      "Train Epoch: 9 Batch Index: 240 [15360/50000 (31%)]\tLoss: 1.074751\n",
      "Train Epoch: 9 Batch Index: 250 [16000/50000 (32%)]\tLoss: 1.101641\n",
      "Train Epoch: 9 Batch Index: 260 [16640/50000 (33%)]\tLoss: 1.290207\n",
      "Train Epoch: 9 Batch Index: 270 [17280/50000 (35%)]\tLoss: 0.975096\n",
      "Train Epoch: 9 Batch Index: 280 [17920/50000 (36%)]\tLoss: 1.136925\n",
      "Train Epoch: 9 Batch Index: 290 [18560/50000 (37%)]\tLoss: 0.996748\n",
      "Train Epoch: 9 Batch Index: 300 [19200/50000 (38%)]\tLoss: 1.017581\n",
      "Train Epoch: 9 Batch Index: 310 [19840/50000 (40%)]\tLoss: 0.898535\n",
      "Train Epoch: 9 Batch Index: 320 [20480/50000 (41%)]\tLoss: 1.307690\n",
      "Train Epoch: 9 Batch Index: 330 [21120/50000 (42%)]\tLoss: 0.854035\n",
      "Train Epoch: 9 Batch Index: 340 [21760/50000 (43%)]\tLoss: 1.410270\n",
      "Train Epoch: 9 Batch Index: 350 [22400/50000 (45%)]\tLoss: 1.222240\n",
      "Train Epoch: 9 Batch Index: 360 [23040/50000 (46%)]\tLoss: 0.964637\n",
      "Train Epoch: 9 Batch Index: 370 [23680/50000 (47%)]\tLoss: 1.030855\n",
      "Train Epoch: 9 Batch Index: 380 [24320/50000 (49%)]\tLoss: 1.044106\n",
      "Train Epoch: 9 Batch Index: 390 [24960/50000 (50%)]\tLoss: 1.103561\n",
      "Train Epoch: 9 Batch Index: 400 [25600/50000 (51%)]\tLoss: 1.143543\n",
      "Train Epoch: 9 Batch Index: 410 [26240/50000 (52%)]\tLoss: 1.334805\n",
      "Train Epoch: 9 Batch Index: 420 [26880/50000 (54%)]\tLoss: 1.136680\n",
      "Train Epoch: 9 Batch Index: 430 [27520/50000 (55%)]\tLoss: 0.917573\n",
      "Train Epoch: 9 Batch Index: 440 [28160/50000 (56%)]\tLoss: 0.766073\n",
      "Train Epoch: 9 Batch Index: 450 [28800/50000 (58%)]\tLoss: 0.918261\n",
      "Train Epoch: 9 Batch Index: 460 [29440/50000 (59%)]\tLoss: 0.839313\n",
      "Train Epoch: 9 Batch Index: 470 [30080/50000 (60%)]\tLoss: 1.098957\n",
      "Train Epoch: 9 Batch Index: 480 [30720/50000 (61%)]\tLoss: 0.732421\n",
      "Train Epoch: 9 Batch Index: 490 [31360/50000 (63%)]\tLoss: 1.118284\n",
      "Train Epoch: 9 Batch Index: 500 [32000/50000 (64%)]\tLoss: 1.004641\n",
      "Train Epoch: 9 Batch Index: 510 [32640/50000 (65%)]\tLoss: 1.056523\n",
      "Train Epoch: 9 Batch Index: 520 [33280/50000 (66%)]\tLoss: 1.144934\n",
      "Train Epoch: 9 Batch Index: 530 [33920/50000 (68%)]\tLoss: 1.135245\n",
      "Train Epoch: 9 Batch Index: 540 [34560/50000 (69%)]\tLoss: 1.171380\n",
      "Train Epoch: 9 Batch Index: 550 [35200/50000 (70%)]\tLoss: 0.979569\n",
      "Train Epoch: 9 Batch Index: 560 [35840/50000 (72%)]\tLoss: 1.050864\n",
      "Train Epoch: 9 Batch Index: 570 [36480/50000 (73%)]\tLoss: 1.043424\n",
      "Train Epoch: 9 Batch Index: 580 [37120/50000 (74%)]\tLoss: 1.208761\n",
      "Train Epoch: 9 Batch Index: 590 [37760/50000 (75%)]\tLoss: 1.034496\n",
      "Train Epoch: 9 Batch Index: 600 [38400/50000 (77%)]\tLoss: 0.999219\n",
      "Train Epoch: 9 Batch Index: 610 [39040/50000 (78%)]\tLoss: 1.200163\n",
      "Train Epoch: 9 Batch Index: 620 [39680/50000 (79%)]\tLoss: 1.072905\n",
      "Train Epoch: 9 Batch Index: 630 [40320/50000 (81%)]\tLoss: 1.012160\n",
      "Train Epoch: 9 Batch Index: 640 [40960/50000 (82%)]\tLoss: 1.008588\n",
      "Train Epoch: 9 Batch Index: 650 [41600/50000 (83%)]\tLoss: 1.021458\n",
      "Train Epoch: 9 Batch Index: 660 [42240/50000 (84%)]\tLoss: 1.248883\n",
      "Train Epoch: 9 Batch Index: 670 [42880/50000 (86%)]\tLoss: 1.451396\n",
      "Train Epoch: 9 Batch Index: 680 [43520/50000 (87%)]\tLoss: 0.783841\n",
      "Train Epoch: 9 Batch Index: 690 [44160/50000 (88%)]\tLoss: 0.594636\n",
      "Train Epoch: 9 Batch Index: 700 [44800/50000 (90%)]\tLoss: 1.141447\n",
      "Train Epoch: 9 Batch Index: 710 [45440/50000 (91%)]\tLoss: 0.830634\n",
      "Train Epoch: 9 Batch Index: 720 [46080/50000 (92%)]\tLoss: 1.121895\n",
      "Train Epoch: 9 Batch Index: 730 [46720/50000 (93%)]\tLoss: 0.911879\n",
      "Train Epoch: 9 Batch Index: 740 [47360/50000 (95%)]\tLoss: 0.988564\n",
      "Train Epoch: 9 Batch Index: 750 [48000/50000 (96%)]\tLoss: 0.892080\n",
      "Train Epoch: 9 Batch Index: 760 [48640/50000 (97%)]\tLoss: 0.840896\n",
      "Train Epoch: 9 Batch Index: 770 [49280/50000 (98%)]\tLoss: 0.857791\n",
      "Train Epoch: 9 Batch Index: 780 [49920/50000 (100%)]\tLoss: 1.214540\n",
      "\n",
      "Test set: Average loss: 0.0183, Accuracy: 5964/10000 (60%)\n",
      "\n"
     ]
    }
   ],
   "source": [
    "for epoch in range(10):\n",
    "    train(epoch)\n",
    "    test()"
   ]
  },
  {
   "cell_type": "code",
   "execution_count": 179,
   "metadata": {
    "scrolled": false
   },
   "outputs": [
    {
     "data": {
      "image/png": "[encoded data removed]",
      "text/plain": [
       "<matplotlib.figure.Figure at 0x7f1fd85a8c18>"
      ]
     },
     "metadata": {},
     "output_type": "display_data"
    },
    {
     "data": {
      "image/png": "[encoded data removed]",
      "text/plain": [
       "<matplotlib.figure.Figure at 0x7f1fd97a7b00>"
      ]
     },
     "metadata": {},
     "output_type": "display_data"
    },
    {
     "data": {
      "image/png": "[encoded data removed]",
      "text/plain": [
       "<matplotlib.figure.Figure at 0x7f1fd908f908>"
      ]
     },
     "metadata": {},
     "output_type": "display_data"
    },
    {
     "data": {
      "image/png": "[encoded data removed]",
      "text/plain": [
       "<matplotlib.figure.Figure at 0x7f1fd84e78d0>"
      ]
     },
     "metadata": {},
     "output_type": "display_data"
    },
    {
     "data": {
      "image/png": "[encoded data removed]",
      "text/plain": [
       "<matplotlib.figure.Figure at 0x7f1fd996b160>"
      ]
     },
     "metadata": {},
     "output_type": "display_data"
    },
    {
     "data": {
      "image/png": "[encoded data removed]",
      "text/plain": [
       "<matplotlib.figure.Figure at 0x7f1fd86a1e10>"
      ]
     },
     "metadata": {},
     "output_type": "display_data"
    },
    {
     "data": {
      "image/png": "[encoded data removed]",
      "text/plain": [
       "<matplotlib.figure.Figure at 0x7f1fd94f7978>"
      ]
     },
     "metadata": {},
     "output_type": "display_data"
    },
    {
     "data": {
      "image/png": "[encoded data removed]",
      "text/plain": [
       "<matplotlib.figure.Figure at 0x7f1fd8280a58>"
      ]
     },
     "metadata": {},
     "output_type": "display_data"
    },
    {
     "data": {
      "image/png": "[encoded data removed]",
      "text/plain": [
       "<matplotlib.figure.Figure at 0x7f1fd81d3198>"
      ]
     },
     "metadata": {},
     "output_type": "display_data"
    },
    {
     "data": {
      "image/png": "[encoded data removed]",
      "text/plain": [
       "<matplotlib.figure.Figure at 0x7f1fd97aa9b0>"
      ]
     },
     "metadata": {},
     "output_type": "display_data"
    }
   ],
   "source": [
    "for i in model.conv1.weight.data:\n",
    "    plt.imshow(i[0].numpy(), cmap=plt.get_cmap(\"Greys\"))\n",
    "    plt.show()"
   ]
  },
  {
   "cell_type": "code",
   "execution_count": 169,
   "metadata": {},
   "outputs": [
    {
     "data": {
      "text/plain": [
       "\n",
       "(0 ,.,.) = \n",
       "  0.0500  0.0061 -0.0415  0.2021  0.0506\n",
       "  0.1655  0.2683  0.1997  0.0359 -0.0384\n",
       " -0.0942 -0.2235 -0.2649  0.0390 -0.1849\n",
       " -0.0875 -0.2231 -0.1516  0.0142 -0.0621\n",
       "  0.0416 -0.0224  0.1230  0.0926 -0.0508\n",
       "\n",
       "(1 ,.,.) = \n",
       " -0.1166  0.0200  0.0653 -0.1220 -0.0240\n",
       "  0.1007  0.1497 -0.0619  0.1079  0.0110\n",
       "  0.0099 -0.0737 -0.0115 -0.1028  0.0911\n",
       " -0.0371  0.0318 -0.0542 -0.0516 -0.0152\n",
       "  0.1763  0.1163  0.0332  0.1284  0.1429\n",
       "\n",
       "(2 ,.,.) = \n",
       " -0.1620 -0.2013 -0.1268  0.0348 -0.1757\n",
       " -0.0071  0.1309 -0.0961 -0.0291 -0.1260\n",
       " -0.0685  0.0519 -0.1137 -0.0546 -0.1447\n",
       " -0.1141 -0.0208  0.0614 -0.0056 -0.0600\n",
       "  0.0657  0.1695  0.1675  0.1087  0.1155\n",
       "[torch.FloatTensor of size 3x5x5]"
      ]
     },
     "execution_count": 169,
     "metadata": {},
     "output_type": "execute_result"
    }
   ],
   "source": [
    "model.conv1.weight.data[0]"
   ]
  },
  {
   "cell_type": "code",
   "execution_count": 135,
   "metadata": {},
   "outputs": [
    {
     "data": {
      "text/plain": [
       "array([[ 0.04996392,  0.00612002, -0.04154245,  0.20214038,  0.05059422],\n",
       "       [ 0.16550139,  0.26827693,  0.19968008,  0.03593087, -0.03838393],\n",
       "       [-0.09415802, -0.22350806, -0.26493239,  0.039026  , -0.18487442],\n",
       "       [-0.08754699, -0.22308339, -0.15158325,  0.01415948, -0.06210069],\n",
       "       [ 0.04159237, -0.02242967,  0.12297854,  0.092595  , -0.05076736]], dtype=float32)"
      ]
     },
     "execution_count": 135,
     "metadata": {},
     "output_type": "execute_result"
    }
   ],
   "source": [
    "model.conv1.weight.data[0][0].numpy()"
   ]
  },
  {
   "cell_type": "code",
   "execution_count": null,
   "metadata": {
    "collapsed": true
   },
   "outputs": [],
   "source": []
  },
  {
   "cell_type": "code",
   "execution_count": null,
   "metadata": {
    "collapsed": true
   },
   "outputs": [],
   "source": []
  },
  {
   "cell_type": "code",
   "execution_count": null,
   "metadata": {
    "collapsed": true
   },
   "outputs": [],
   "source": []
  },
  {
   "cell_type": "code",
   "execution_count": null,
   "metadata": {
    "collapsed": true
   },
   "outputs": [],
   "source": []
  },
  {
   "cell_type": "markdown",
   "metadata": {},
   "source": [
    "# 2. Advanced CNN"
   ]
  },
  {
   "cell_type": "markdown",
   "metadata": {},
   "source": [
    "## 2.1 Inception modules\n",
    "\n",
    "When not know which size of filter to choose, **use all different filters at the same time.**\n",
    "\n",
    "You use $1\\times1$ filter because **it reduces the number of operations to a huge extent.**\n",
    "\n",
    "<img align=\"left\" src=\"./Figures/noreduce.png\" width=450>\n",
    "<img align=\"left\" src=\"./Figures/reduced1.png\"width=450>\n",
    "\n",
    "<!-- ![optional](./Figures/noreduce.png)![optional](./Figures/reduced1.png) -->"
   ]
  },
  {
   "cell_type": "markdown",
   "metadata": {},
   "source": [
    "### Let's make an inception module\n",
    "<img align=\"center\" src=\"./Figures/inception_module.png\"/>"
   ]
  },
  {
   "cell_type": "code",
   "execution_count": 95,
   "metadata": {
    "collapsed": true
   },
   "outputs": [],
   "source": [
    "class InceptionA(tc.nn.Module):\n",
    "    def __init__(self, in_channels):\n",
    "        super(InceptionA, self).__init__()\n",
    "        \n",
    "        self.branch_pool_1 = tc.nn.Conv2d(in_channels=in_channels, out_channels=24, kernel_size=1)\n",
    "        \n",
    "        self.branch1x1 = tc.nn.Conv2d(in_channels=in_channels, out_channels=16, kernel_size=1)\n",
    "        \n",
    "        self.branch5x5_1 = tc.nn.Conv2d(in_channels=in_channels, out_channels=16, kernel_size=1)\n",
    "        self.branch5x5_2 = tc.nn.Conv2d(in_channels=16, out_channels=24, kernel_size=5, padding=2)\n",
    "        \n",
    "        self.branch3x3_1 = tc.nn.Conv2d(in_channels=in_channels, out_channels=16, kernel_size=1)\n",
    "        self.branch3x3_2 = tc.nn.Conv2d(in_channels=16, out_channels=24, kernel_size=3, padding=1)\n",
    "        self.branch3x3_3 = tc.nn.Conv2d(in_channels=24, out_channels=24, kernel_size=3, padding=1)\n",
    "\n",
    "        \n",
    "    def forward(self, x):\n",
    "        branch_pool = self.branch_pool_1(tc.nn.functional.avg_pool2d(x, kernel_size=3, stride=1, padding=1))\n",
    "        \n",
    "        branch1x1 = self.branch1x1(x)\n",
    "        branch5x5 = self.branch5x5_2(self.branch5x5_1(x))\n",
    "        branch3x3 = self.branch3x3_3(self.branch3x3_2(self.branch3x3_1(x)))\n",
    "        \n",
    "        outputs = [branch_pool, branch1x1, branch5x5, branch3x3]\n",
    "        return tc.cat(outputs, 1) # Concatenate output list"
   ]
  },
  {
   "cell_type": "code",
   "execution_count": 96,
   "metadata": {
    "collapsed": true
   },
   "outputs": [],
   "source": [
    "class Net(tc.nn.Module):\n",
    "    def __init__(self):\n",
    "        super(Net, self).__init__()\n",
    "        self.conv1 = tc.nn.Conv2d(1, 10, kernel_size=5)\n",
    "        self.conv2 = tc.nn.Conv2d(88, 20, kernel_size=5)\n",
    "        \n",
    "        self.incept1 = InceptionA(in_channels=10)\n",
    "        self.incept2 = InceptionA(in_channels=20)\n",
    "        \n",
    "        self.mp = tc.nn.MaxPool2d(2)\n",
    "        self.fc = tc.nn.Linear(1408, 10)\n",
    "        \n",
    "    def forward(self, x):\n",
    "        in_size = x.size(0) # size of batch\n",
    "        print(\"x.size1: \", x.size())\n",
    "        print(\"in_size: \", in_size)\n",
    "        x = tc.nn.functional.relu(self.mp(self.conv1(x)))\n",
    "        x = self.incept1(x)\n",
    "        x = tc.nn.functional.relu(self.mp(self.conv2(x)))\n",
    "        x = self.incept2(x)\n",
    "        x = x.view(in_size, -1)\n",
    "        print(\"x.size2: \", x.size())\n",
    "        x = self.fc(x)\n",
    "        return tc.nn.functional.log_softmax(x)\n",
    "        "
   ]
  },
  {
   "cell_type": "code",
   "execution_count": 97,
   "metadata": {
    "collapsed": true
   },
   "outputs": [],
   "source": [
    "train_dataset = datasets.MNIST(root=\"./Data/MNIST_Data/\", train=True,\n",
    "           transform=transforms.Compose([transforms.ToTensor(),\n",
    "                                         transforms.Normalize((0.13066062, ), (0.30810776, ))]), download=True)\n",
    "test_dataset = datasets.MNIST(root=\"./Data/MNIST_Data/\", train=False,\n",
    "                              transform=transforms.Compose([transforms.ToTensor(),\n",
    "                                         transforms.Normalize((0.13066062, ), (0.30810776, ))]))\n",
    "\n",
    "train_loader = DataLoader(dataset=train_dataset, shuffle=True, batch_size=64, num_workers=2)\n",
    "test_loader = DataLoader(dataset=test_dataset, shuffle=False, batch_size=64, num_workers=2)"
   ]
  },
  {
   "cell_type": "code",
   "execution_count": 98,
   "metadata": {
    "collapsed": true
   },
   "outputs": [],
   "source": [
    "model = Net()\n",
    "criterion = tc.nn.CrossEntropyLoss()\n",
    "# CHOICE OF CRITERION IS VERY IMPORTANT!!!\n",
    "# criterion = tc.nn.BCELoss() does not work.\n",
    "optimizer = tc.optim.SGD(model.parameters(), lr=0.01, momentum=0.5)"
   ]
  },
  {
   "cell_type": "code",
   "execution_count": 99,
   "metadata": {
    "collapsed": true
   },
   "outputs": [],
   "source": [
    "def train(epoch):\n",
    "    model.train()\n",
    "    for batch_idx, (data, label) in enumerate(train_loader):\n",
    "        data, label = Variable(data), Variable(label)\n",
    "        pred_label = model(data)\n",
    "        loss = criterion(pred_label, label)\n",
    "        \n",
    "        optimizer.zero_grad()\n",
    "        loss.backward()\n",
    "        optimizer.step()\n",
    "        if batch_idx % 10 == 0:\n",
    "            print('Train Epoch: {} [{}/{} ({:.0f}%)]\\tLoss: {:.6f}'\n",
    "                 .format(epoch, batch_idx*len(data), len(train_loader.dataset), 100.*batch_idx/len(train_loader),\n",
    "                 loss.data[0]))"
   ]
  },
  {
   "cell_type": "code",
   "execution_count": 100,
   "metadata": {
    "collapsed": true
   },
   "outputs": [],
   "source": [
    "def test():\n",
    "    model.eval()\n",
    "    correct = 0\n",
    "    test_loss = 0\n",
    "    for data, label in test_loader:\n",
    "        data, label = Variable(data, volatile=True), Variable(label)\n",
    "        pred_label = model(data)\n",
    "        test_loss += criterion(pred_label, label).data[0]\n",
    "        \n",
    "        pred = pred_label.data.max(1, keepdim=True)[1]\n",
    "        correct += pred.eq(label.data.view_as(pred)).sum()\n",
    "        \n",
    "    test_loss /= len(test_loader.dataset)\n",
    "    print('\\nTest set: Average loss: {:.4f}, Accuracy: {}/{} ({:.0f}%)\\n'.format(\n",
    "    test_loss, correct, len(test_loader.dataset),\n",
    "    100. * correct / len(test_loader.dataset)))"
   ]
  },
  {
   "cell_type": "code",
   "execution_count": 101,
   "metadata": {},
   "outputs": [
    {
     "name": "stdout",
     "output_type": "stream",
     "text": [
      "x.size1:  torch.Size([64, 1, 28, 28])\n",
      "in_size:  64\n",
      "x.size2:  torch.Size([64, 1408])\n",
      "Train Epoch: 0 [0/60000 (0%)]\tLoss: 2.300683\n",
      "x.size1:  torch.Size([64, 1, 28, 28])\n",
      "in_size:  64\n"
     ]
    },
    {
     "name": "stderr",
     "output_type": "stream",
     "text": [
      "/home/sewook/anaconda3/lib/python3.6/site-packages/ipykernel_launcher.py:24: UserWarning: Implicit dimension choice for log_softmax has been deprecated. Change the call to include dim=X as an argument.\n"
     ]
    },
    {
     "name": "stdout",
     "output_type": "stream",
     "text": [
      "x.size2:  torch.Size([64, 1408])\n",
      "x.size1:  torch.Size([64, 1, 28, 28])\n",
      "in_size:  64\n",
      "x.size2:  torch.Size([64, 1408])\n",
      "x.size1:  torch.Size([64, 1, 28, 28])\n",
      "in_size:  64\n",
      "x.size2:  torch.Size([64, 1408])\n",
      "x.size1:  torch.Size([64, 1, 28, 28])\n",
      "in_size:  64\n",
      "x.size2:  torch.Size([64, 1408])\n",
      "x.size1:  torch.Size([64, 1, 28, 28])\n",
      "in_size:  64\n",
      "x.size2:  torch.Size([64, 1408])\n",
      "x.size1:  torch.Size([64, 1, 28, 28])\n",
      "in_size:  64\n",
      "x.size2:  torch.Size([64, 1408])\n",
      "x.size1:  torch.Size([64, 1, 28, 28])\n",
      "in_size:  64\n",
      "x.size2:  torch.Size([64, 1408])\n",
      "x.size1:  torch.Size([64, 1, 28, 28])\n",
      "in_size:  64\n",
      "x.size2:  torch.Size([64, 1408])\n",
      "x.size1:  torch.Size([64, 1, 28, 28])\n",
      "in_size:  64\n",
      "x.size2:  torch.Size([64, 1408])\n",
      "x.size1:  torch.Size([64, 1, 28, 28])\n",
      "in_size:  64\n",
      "x.size2:  torch.Size([64, 1408])\n",
      "Train Epoch: 0 [640/60000 (1%)]\tLoss: 2.292998\n",
      "x.size1:  torch.Size([64, 1, 28, 28])\n",
      "in_size:  64\n",
      "x.size2:  torch.Size([64, 1408])\n",
      "x.size1:  torch.Size([64, 1, 28, 28])\n",
      "in_size:  64\n",
      "x.size2:  torch.Size([64, 1408])\n",
      "x.size1:  torch.Size([64, 1, 28, 28])\n",
      "in_size:  64\n",
      "x.size2:  torch.Size([64, 1408])\n",
      "x.size1:  torch.Size([64, 1, 28, 28])\n",
      "in_size:  64\n",
      "x.size2:  torch.Size([64, 1408])\n",
      "x.size1:  torch.Size([64, 1, 28, 28])\n",
      "in_size:  64\n",
      "x.size2:  torch.Size([64, 1408])\n",
      "x.size1:  torch.Size([64, 1, 28, 28])\n",
      "in_size:  64\n",
      "x.size2:  torch.Size([64, 1408])\n",
      "x.size1:  torch.Size([64, 1, 28, 28])\n",
      "in_size:  64\n",
      "x.size2:  torch.Size([64, 1408])\n",
      "x.size1:  torch.Size([64, 1, 28, 28])\n",
      "in_size:  64\n",
      "x.size2:  torch.Size([64, 1408])\n",
      "x.size1:  torch.Size([64, 1, 28, 28])\n",
      "in_size:  64\n",
      "x.size2:  torch.Size([64, 1408])\n",
      "x.size1:  torch.Size([64, 1, 28, 28])\n",
      "in_size:  64\n",
      "x.size2:  torch.Size([64, 1408])\n",
      "Train Epoch: 0 [1280/60000 (2%)]\tLoss: 2.268855\n",
      "x.size1:  torch.Size([64, 1, 28, 28])\n",
      "in_size:  64\n",
      "x.size2:  torch.Size([64, 1408])\n",
      "x.size1:  torch.Size([64, 1, 28, 28])\n",
      "in_size:  64\n",
      "x.size2:  torch.Size([64, 1408])\n",
      "x.size1:  torch.Size([64, 1, 28, 28])\n",
      "in_size:  64\n",
      "x.size2:  torch.Size([64, 1408])\n",
      "x.size1:  torch.Size([64, 1, 28, 28])\n",
      "in_size:  64\n",
      "x.size2:  torch.Size([64, 1408])\n",
      "x.size1:  torch.Size([64, 1, 28, 28])\n",
      "in_size:  64\n",
      "x.size2:  torch.Size([64, 1408])\n",
      "x.size1:  torch.Size([64, 1, 28, 28])\n",
      "in_size:  64\n",
      "x.size2:  torch.Size([64, 1408])\n"
     ]
    },
    {
     "name": "stderr",
     "output_type": "stream",
     "text": [
      "Process Process-63:\n",
      "Traceback (most recent call last):\n",
      "Process Process-64:\n",
      "  File \"/home/sewook/anaconda3/lib/python3.6/multiprocessing/process.py\", line 258, in _bootstrap\n",
      "    self.run()\n",
      "  File \"/home/sewook/anaconda3/lib/python3.6/multiprocessing/process.py\", line 93, in run\n",
      "    self._target(*self._args, **self._kwargs)\n",
      "Traceback (most recent call last):\n",
      "  File \"/home/sewook/anaconda3/lib/python3.6/multiprocessing/process.py\", line 258, in _bootstrap\n",
      "    self.run()\n",
      "  File \"/home/sewook/anaconda3/lib/python3.6/site-packages/torch/utils/data/dataloader.py\", line 36, in _worker_loop\n",
      "    r = index_queue.get()\n",
      "  File \"/home/sewook/anaconda3/lib/python3.6/multiprocessing/process.py\", line 93, in run\n",
      "    self._target(*self._args, **self._kwargs)\n",
      "  File \"/home/sewook/anaconda3/lib/python3.6/multiprocessing/queues.py\", line 334, in get\n",
      "    with self._rlock:\n",
      "  File \"/home/sewook/anaconda3/lib/python3.6/multiprocessing/synchronize.py\", line 96, in __enter__\n",
      "    return self._semlock.__enter__()\n",
      "KeyboardInterrupt\n",
      "  File \"/home/sewook/anaconda3/lib/python3.6/site-packages/torch/utils/data/dataloader.py\", line 36, in _worker_loop\n",
      "    r = index_queue.get()\n",
      "  File \"/home/sewook/anaconda3/lib/python3.6/multiprocessing/queues.py\", line 335, in get\n",
      "    res = self._reader.recv_bytes()\n",
      "  File \"/home/sewook/anaconda3/lib/python3.6/multiprocessing/connection.py\", line 216, in recv_bytes\n",
      "    buf = self._recv_bytes(maxlength)\n",
      "  File \"/home/sewook/anaconda3/lib/python3.6/multiprocessing/connection.py\", line 407, in _recv_bytes\n",
      "    buf = self._recv(4)\n",
      "  File \"/home/sewook/anaconda3/lib/python3.6/multiprocessing/connection.py\", line 379, in _recv\n",
      "    chunk = read(handle, remaining)\n",
      "KeyboardInterrupt\n"
     ]
    },
    {
     "ename": "KeyboardInterrupt",
     "evalue": "",
     "output_type": "error",
     "traceback": [
      "\u001b[0;31m---------------------------------------------------------------------------\u001b[0m",
      "\u001b[0;31mKeyboardInterrupt\u001b[0m                         Traceback (most recent call last)",
      "\u001b[0;32m<ipython-input-101-6b333e7e5106>\u001b[0m in \u001b[0;36m<module>\u001b[0;34m()\u001b[0m\n\u001b[1;32m      1\u001b[0m \u001b[0;32mfor\u001b[0m \u001b[0mepoch\u001b[0m \u001b[0;32min\u001b[0m \u001b[0mrange\u001b[0m\u001b[0;34m(\u001b[0m\u001b[0;36m2\u001b[0m\u001b[0;34m)\u001b[0m\u001b[0;34m:\u001b[0m\u001b[0;34m\u001b[0m\u001b[0m\n\u001b[0;32m----> 2\u001b[0;31m     \u001b[0mtrain\u001b[0m\u001b[0;34m(\u001b[0m\u001b[0mepoch\u001b[0m\u001b[0;34m)\u001b[0m\u001b[0;34m\u001b[0m\u001b[0m\n\u001b[0m\u001b[1;32m      3\u001b[0m     \u001b[0mtest\u001b[0m\u001b[0;34m(\u001b[0m\u001b[0;34m)\u001b[0m\u001b[0;34m\u001b[0m\u001b[0m\n",
      "\u001b[0;32m<ipython-input-99-524757e95836>\u001b[0m in \u001b[0;36mtrain\u001b[0;34m(epoch)\u001b[0m\n\u001b[1;32m      7\u001b[0m \u001b[0;34m\u001b[0m\u001b[0m\n\u001b[1;32m      8\u001b[0m         \u001b[0moptimizer\u001b[0m\u001b[0;34m.\u001b[0m\u001b[0mzero_grad\u001b[0m\u001b[0;34m(\u001b[0m\u001b[0;34m)\u001b[0m\u001b[0;34m\u001b[0m\u001b[0m\n\u001b[0;32m----> 9\u001b[0;31m         \u001b[0mloss\u001b[0m\u001b[0;34m.\u001b[0m\u001b[0mbackward\u001b[0m\u001b[0;34m(\u001b[0m\u001b[0;34m)\u001b[0m\u001b[0;34m\u001b[0m\u001b[0m\n\u001b[0m\u001b[1;32m     10\u001b[0m         \u001b[0moptimizer\u001b[0m\u001b[0;34m.\u001b[0m\u001b[0mstep\u001b[0m\u001b[0;34m(\u001b[0m\u001b[0;34m)\u001b[0m\u001b[0;34m\u001b[0m\u001b[0m\n\u001b[1;32m     11\u001b[0m         \u001b[0;32mif\u001b[0m \u001b[0mbatch_idx\u001b[0m \u001b[0;34m%\u001b[0m \u001b[0;36m10\u001b[0m \u001b[0;34m==\u001b[0m \u001b[0;36m0\u001b[0m\u001b[0;34m:\u001b[0m\u001b[0;34m\u001b[0m\u001b[0m\n",
      "\u001b[0;32m~/anaconda3/lib/python3.6/site-packages/torch/autograd/variable.py\u001b[0m in \u001b[0;36mbackward\u001b[0;34m(self, gradient, retain_graph, create_graph, retain_variables)\u001b[0m\n\u001b[1;32m    165\u001b[0m                 \u001b[0mVariable\u001b[0m\u001b[0;34m.\u001b[0m\u001b[0;34m\u001b[0m\u001b[0m\n\u001b[1;32m    166\u001b[0m         \"\"\"\n\u001b[0;32m--> 167\u001b[0;31m         \u001b[0mtorch\u001b[0m\u001b[0;34m.\u001b[0m\u001b[0mautograd\u001b[0m\u001b[0;34m.\u001b[0m\u001b[0mbackward\u001b[0m\u001b[0;34m(\u001b[0m\u001b[0mself\u001b[0m\u001b[0;34m,\u001b[0m \u001b[0mgradient\u001b[0m\u001b[0;34m,\u001b[0m \u001b[0mretain_graph\u001b[0m\u001b[0;34m,\u001b[0m \u001b[0mcreate_graph\u001b[0m\u001b[0;34m,\u001b[0m \u001b[0mretain_variables\u001b[0m\u001b[0;34m)\u001b[0m\u001b[0;34m\u001b[0m\u001b[0m\n\u001b[0m\u001b[1;32m    168\u001b[0m \u001b[0;34m\u001b[0m\u001b[0m\n\u001b[1;32m    169\u001b[0m     \u001b[0;32mdef\u001b[0m \u001b[0mregister_hook\u001b[0m\u001b[0;34m(\u001b[0m\u001b[0mself\u001b[0m\u001b[0;34m,\u001b[0m \u001b[0mhook\u001b[0m\u001b[0;34m)\u001b[0m\u001b[0;34m:\u001b[0m\u001b[0;34m\u001b[0m\u001b[0m\n",
      "\u001b[0;32m~/anaconda3/lib/python3.6/site-packages/torch/autograd/__init__.py\u001b[0m in \u001b[0;36mbackward\u001b[0;34m(variables, grad_variables, retain_graph, create_graph, retain_variables)\u001b[0m\n\u001b[1;32m     97\u001b[0m \u001b[0;34m\u001b[0m\u001b[0m\n\u001b[1;32m     98\u001b[0m     Variable._execution_engine.run_backward(\n\u001b[0;32m---> 99\u001b[0;31m         variables, grad_variables, retain_graph)\n\u001b[0m\u001b[1;32m    100\u001b[0m \u001b[0;34m\u001b[0m\u001b[0m\n\u001b[1;32m    101\u001b[0m \u001b[0;34m\u001b[0m\u001b[0m\n",
      "\u001b[0;31mKeyboardInterrupt\u001b[0m: "
     ]
    }
   ],
   "source": [
    "for epoch in range(2):\n",
    "    train(epoch)\n",
    "    test()"
   ]
  }
 ],
 "metadata": {
  "kernelspec": {
   "display_name": "Python 3",
   "language": "python",
   "name": "python3"
  },
  "language_info": {
   "codemirror_mode": {
    "name": "ipython",
    "version": 3
   },
   "file_extension": ".py",
   "mimetype": "text/x-python",
   "name": "python",
   "nbconvert_exporter": "python",
   "pygments_lexer": "ipython3",
   "version": "3.6.3"
  }
 },
 "nbformat": 4,
 "nbformat_minor": 2
}
